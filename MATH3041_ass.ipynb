{
  "nbformat": 4,
  "nbformat_minor": 0,
  "metadata": {
    "colab": {
      "provenance": [],
      "authorship_tag": "ABX9TyMFH5+i5diwMKDY1bLNtTt8",
      "include_colab_link": true
    },
    "kernelspec": {
      "name": "python3",
      "display_name": "Python 3"
    },
    "language_info": {
      "name": "python"
    }
  },
  "cells": [
    {
      "cell_type": "markdown",
      "metadata": {
        "id": "view-in-github",
        "colab_type": "text"
      },
      "source": [
        "<a href=\"https://colab.research.google.com/github/JulianSKYOO/MATH3041/blob/main/MATH3041_ass.ipynb\" target=\"_parent\"><img src=\"https://colab.research.google.com/assets/colab-badge.svg\" alt=\"Open In Colab\"/></a>"
      ]
    },
    {
      "cell_type": "markdown",
      "source": [
        "**MATH3041 Individual Assignment**\n",
        "\n",
        "\n",
        "> Sungkyun Yoo, z5378786\n",
        "\n",
        "\n",
        "\n"
      ],
      "metadata": {
        "id": "ZpGG-oOKvmvx"
      }
    },
    {
      "cell_type": "markdown",
      "source": [
        " This report is to deliver any insights from the relationship between the economic growth and greenhouse gas emission.\n",
        "\n"
      ],
      "metadata": {
        "id": "EMuEbSyyv-Nj"
      }
    },
    {
      "cell_type": "code",
      "source": [
        "# Import packages\n",
        "import pandas as pd\n",
        "import numpy as np\n",
        "import matplotlib.pyplot as plt\n",
        "import seaborn as sns\n",
        "from sklearn.linear_model import LinearRegression\n",
        "from sklearn.metrics import r2_score\n",
        "from scipy import stats\n",
        "\n",
        "# Setting plt\n",
        "%matplotlib inline"
      ],
      "metadata": {
        "id": "pLhAoKCsmL3v"
      },
      "execution_count": null,
      "outputs": []
    },
    {
      "cell_type": "code",
      "source": [
        "# Coomputing X and Y\n",
        "def linear_fit(xx,yy):\n",
        "\n",
        "  X = xx.values\n",
        "  Y = yy.values\n",
        "\n",
        "  # Total number of values\n",
        "  n = len(X)\n",
        "\n",
        "  numer = n*sum(X*Y) - sum(X)*sum(Y)\n",
        "  denom = n*sum(X**2) - sum(X)**2\n",
        "\n",
        "  m = numer/denom\n",
        "\n",
        "  b = (sum(Y)- m*sum(X))/n\n",
        "\n",
        "  return(m, b) # return coefficents"
      ],
      "metadata": {
        "id": "E1ai6_-KWCW6"
      },
      "execution_count": null,
      "outputs": []
    },
    {
      "cell_type": "code",
      "execution_count": null,
      "metadata": {
        "id": "HmgdHU7eloJJ"
      },
      "outputs": [],
      "source": [
        "# Getting the DataFrame\n",
        "raw_1 = 'https://raw.githubusercontent.com/JulianSKYOO/MATH3041/main/gdp_energy_ghg.csv'\n",
        "data_1 = pd.read_csv(raw_1)\n",
        "raw_2 = 'https://raw.githubusercontent.com/JulianSKYOO/MATH3041/main/co2_gdp_energy.csv'\n",
        "data_2 = pd.read_csv(raw_2)\n",
        "raw_3 = 'https://raw.githubusercontent.com/JulianSKYOO/MATH3041/main/CO2.csv'\n",
        "data_4 = pd.read_csv(raw_3)"
      ]
    },
    {
      "cell_type": "code",
      "source": [
        "raw_s1 = 'https://raw.githubusercontent.com/JulianSKYOO/MATH3041/main/s1_new.csv'\n",
        "raw_s2 = 'https://raw.githubusercontent.com/JulianSKYOO/MATH3041/main/s2_new.csv'\n",
        "raw_s3 = 'https://raw.githubusercontent.com/JulianSKYOO/MATH3041/main/s3_new.csv'\n",
        "data_s1 = pd.read_csv(raw_s1)\n",
        "data_s2 = pd.read_csv(raw_s2)\n",
        "data_s3 = pd.read_csv(raw_s3)"
      ],
      "metadata": {
        "id": "2xN4dB1JSvXB"
      },
      "execution_count": null,
      "outputs": []
    },
    {
      "cell_type": "code",
      "source": [
        "data_4 = data_4.dropna()"
      ],
      "metadata": {
        "id": "H9IeUiXDXzoX"
      },
      "execution_count": null,
      "outputs": []
    },
    {
      "cell_type": "code",
      "source": [
        "data_e = data_1[['Entity', 'Year', \"Population (historical estimates)\", \"Primary energy consumption per GDP (kWh/$)\", \"GDP per capita\", \"Annual CO₂ emissions\", \"Annual CO₂ emissions per unit energy (kg per kilowatt-hour)\"]]"
      ],
      "metadata": {
        "id": "TqaKZNv61-JT"
      },
      "execution_count": null,
      "outputs": []
    },
    {
      "cell_type": "code",
      "source": [
        "data_e = data_e.rename(columns={\"Population (historical estimates)\":\"Population\", \"Primary energy consumption per GDP (kWh/$)\":\"energy consumption / GDP\", \"Annual CO₂ emissions per unit energy (kg per kilowatt-hour)\":\"Annual CO₂ emissions / energy\"})\n",
        "GDP = data_e['Population'] * data_e['GDP per capita']\n",
        "data_e['Total GDP'] = GDP\n",
        "data_e"
      ],
      "metadata": {
        "id": "e05TMEuuditk",
        "colab": {
          "base_uri": "https://localhost:8080/",
          "height": 534
        },
        "outputId": "2a7ab198-9d76-4ecd-c216-98bdb16f47ec"
      },
      "execution_count": null,
      "outputs": [
        {
          "output_type": "execute_result",
          "data": {
            "text/plain": [
              "            Entity  Year  Population  energy consumption / GDP  \\\n",
              "0      Afghanistan  1965   9565154.0                       NaN   \n",
              "1      Afghanistan  1966   9783153.0                       NaN   \n",
              "2      Afghanistan  1967  10010037.0                       NaN   \n",
              "3      Afghanistan  1968  10247782.0                       NaN   \n",
              "4      Afghanistan  1969  10494491.0                       NaN   \n",
              "...            ...   ...         ...                       ...   \n",
              "15987     Zimbabwe  2017  14751101.0                  2.092965   \n",
              "15988     Zimbabwe  2018  15052191.0                  2.091188   \n",
              "15989     Zimbabwe  2019  15354606.0                       NaN   \n",
              "15990     Zimbabwe  2020  15669663.0                       NaN   \n",
              "15991     Zimbabwe  2021  15993525.0                       NaN   \n",
              "\n",
              "       GDP per capita  Annual CO₂ emissions  Annual CO₂ emissions / energy  \\\n",
              "0           1290.0000             1006917.0                            NaN   \n",
              "1           1272.0000             1091159.0                            NaN   \n",
              "2           1277.0000             1281865.0                            NaN   \n",
              "3           1290.0000             1223391.0                            NaN   \n",
              "4           1278.0000              941232.0                            NaN   \n",
              "...               ...                   ...                            ...   \n",
              "15987       1582.3662             9596071.0                       0.208901   \n",
              "15988       1611.4052            11795478.0                       0.248315   \n",
              "15989             NaN            11114607.0                       0.224871   \n",
              "15990             NaN            10607897.0                            NaN   \n",
              "15991             NaN            11296114.0                            NaN   \n",
              "\n",
              "          Total GDP  \n",
              "0      1.233905e+10  \n",
              "1      1.244417e+10  \n",
              "2      1.278282e+10  \n",
              "3      1.321964e+10  \n",
              "4      1.341196e+10  \n",
              "...             ...  \n",
              "15987  2.334164e+10  \n",
              "15988  2.425518e+10  \n",
              "15989           NaN  \n",
              "15990           NaN  \n",
              "15991           NaN  \n",
              "\n",
              "[15992 rows x 8 columns]"
            ],
            "text/html": [
              "\n",
              "\n",
              "  <div id=\"df-881eb4cf-3fb4-4419-98c6-bf2965c42b09\">\n",
              "    <div class=\"colab-df-container\">\n",
              "      <div>\n",
              "<style scoped>\n",
              "    .dataframe tbody tr th:only-of-type {\n",
              "        vertical-align: middle;\n",
              "    }\n",
              "\n",
              "    .dataframe tbody tr th {\n",
              "        vertical-align: top;\n",
              "    }\n",
              "\n",
              "    .dataframe thead th {\n",
              "        text-align: right;\n",
              "    }\n",
              "</style>\n",
              "<table border=\"1\" class=\"dataframe\">\n",
              "  <thead>\n",
              "    <tr style=\"text-align: right;\">\n",
              "      <th></th>\n",
              "      <th>Entity</th>\n",
              "      <th>Year</th>\n",
              "      <th>Population</th>\n",
              "      <th>energy consumption / GDP</th>\n",
              "      <th>GDP per capita</th>\n",
              "      <th>Annual CO₂ emissions</th>\n",
              "      <th>Annual CO₂ emissions / energy</th>\n",
              "      <th>Total GDP</th>\n",
              "    </tr>\n",
              "  </thead>\n",
              "  <tbody>\n",
              "    <tr>\n",
              "      <th>0</th>\n",
              "      <td>Afghanistan</td>\n",
              "      <td>1965</td>\n",
              "      <td>9565154.0</td>\n",
              "      <td>NaN</td>\n",
              "      <td>1290.0000</td>\n",
              "      <td>1006917.0</td>\n",
              "      <td>NaN</td>\n",
              "      <td>1.233905e+10</td>\n",
              "    </tr>\n",
              "    <tr>\n",
              "      <th>1</th>\n",
              "      <td>Afghanistan</td>\n",
              "      <td>1966</td>\n",
              "      <td>9783153.0</td>\n",
              "      <td>NaN</td>\n",
              "      <td>1272.0000</td>\n",
              "      <td>1091159.0</td>\n",
              "      <td>NaN</td>\n",
              "      <td>1.244417e+10</td>\n",
              "    </tr>\n",
              "    <tr>\n",
              "      <th>2</th>\n",
              "      <td>Afghanistan</td>\n",
              "      <td>1967</td>\n",
              "      <td>10010037.0</td>\n",
              "      <td>NaN</td>\n",
              "      <td>1277.0000</td>\n",
              "      <td>1281865.0</td>\n",
              "      <td>NaN</td>\n",
              "      <td>1.278282e+10</td>\n",
              "    </tr>\n",
              "    <tr>\n",
              "      <th>3</th>\n",
              "      <td>Afghanistan</td>\n",
              "      <td>1968</td>\n",
              "      <td>10247782.0</td>\n",
              "      <td>NaN</td>\n",
              "      <td>1290.0000</td>\n",
              "      <td>1223391.0</td>\n",
              "      <td>NaN</td>\n",
              "      <td>1.321964e+10</td>\n",
              "    </tr>\n",
              "    <tr>\n",
              "      <th>4</th>\n",
              "      <td>Afghanistan</td>\n",
              "      <td>1969</td>\n",
              "      <td>10494491.0</td>\n",
              "      <td>NaN</td>\n",
              "      <td>1278.0000</td>\n",
              "      <td>941232.0</td>\n",
              "      <td>NaN</td>\n",
              "      <td>1.341196e+10</td>\n",
              "    </tr>\n",
              "    <tr>\n",
              "      <th>...</th>\n",
              "      <td>...</td>\n",
              "      <td>...</td>\n",
              "      <td>...</td>\n",
              "      <td>...</td>\n",
              "      <td>...</td>\n",
              "      <td>...</td>\n",
              "      <td>...</td>\n",
              "      <td>...</td>\n",
              "    </tr>\n",
              "    <tr>\n",
              "      <th>15987</th>\n",
              "      <td>Zimbabwe</td>\n",
              "      <td>2017</td>\n",
              "      <td>14751101.0</td>\n",
              "      <td>2.092965</td>\n",
              "      <td>1582.3662</td>\n",
              "      <td>9596071.0</td>\n",
              "      <td>0.208901</td>\n",
              "      <td>2.334164e+10</td>\n",
              "    </tr>\n",
              "    <tr>\n",
              "      <th>15988</th>\n",
              "      <td>Zimbabwe</td>\n",
              "      <td>2018</td>\n",
              "      <td>15052191.0</td>\n",
              "      <td>2.091188</td>\n",
              "      <td>1611.4052</td>\n",
              "      <td>11795478.0</td>\n",
              "      <td>0.248315</td>\n",
              "      <td>2.425518e+10</td>\n",
              "    </tr>\n",
              "    <tr>\n",
              "      <th>15989</th>\n",
              "      <td>Zimbabwe</td>\n",
              "      <td>2019</td>\n",
              "      <td>15354606.0</td>\n",
              "      <td>NaN</td>\n",
              "      <td>NaN</td>\n",
              "      <td>11114607.0</td>\n",
              "      <td>0.224871</td>\n",
              "      <td>NaN</td>\n",
              "    </tr>\n",
              "    <tr>\n",
              "      <th>15990</th>\n",
              "      <td>Zimbabwe</td>\n",
              "      <td>2020</td>\n",
              "      <td>15669663.0</td>\n",
              "      <td>NaN</td>\n",
              "      <td>NaN</td>\n",
              "      <td>10607897.0</td>\n",
              "      <td>NaN</td>\n",
              "      <td>NaN</td>\n",
              "    </tr>\n",
              "    <tr>\n",
              "      <th>15991</th>\n",
              "      <td>Zimbabwe</td>\n",
              "      <td>2021</td>\n",
              "      <td>15993525.0</td>\n",
              "      <td>NaN</td>\n",
              "      <td>NaN</td>\n",
              "      <td>11296114.0</td>\n",
              "      <td>NaN</td>\n",
              "      <td>NaN</td>\n",
              "    </tr>\n",
              "  </tbody>\n",
              "</table>\n",
              "<p>15992 rows × 8 columns</p>\n",
              "</div>\n",
              "      <button class=\"colab-df-convert\" onclick=\"convertToInteractive('df-881eb4cf-3fb4-4419-98c6-bf2965c42b09')\"\n",
              "              title=\"Convert this dataframe to an interactive table.\"\n",
              "              style=\"display:none;\">\n",
              "\n",
              "  <svg xmlns=\"http://www.w3.org/2000/svg\" height=\"24px\"viewBox=\"0 0 24 24\"\n",
              "       width=\"24px\">\n",
              "    <path d=\"M0 0h24v24H0V0z\" fill=\"none\"/>\n",
              "    <path d=\"M18.56 5.44l.94 2.06.94-2.06 2.06-.94-2.06-.94-.94-2.06-.94 2.06-2.06.94zm-11 1L8.5 8.5l.94-2.06 2.06-.94-2.06-.94L8.5 2.5l-.94 2.06-2.06.94zm10 10l.94 2.06.94-2.06 2.06-.94-2.06-.94-.94-2.06-.94 2.06-2.06.94z\"/><path d=\"M17.41 7.96l-1.37-1.37c-.4-.4-.92-.59-1.43-.59-.52 0-1.04.2-1.43.59L10.3 9.45l-7.72 7.72c-.78.78-.78 2.05 0 2.83L4 21.41c.39.39.9.59 1.41.59.51 0 1.02-.2 1.41-.59l7.78-7.78 2.81-2.81c.8-.78.8-2.07 0-2.86zM5.41 20L4 18.59l7.72-7.72 1.47 1.35L5.41 20z\"/>\n",
              "  </svg>\n",
              "      </button>\n",
              "\n",
              "\n",
              "\n",
              "    <div id=\"df-6b28f46f-31fb-4266-85b8-b8e8e77f9794\">\n",
              "      <button class=\"colab-df-quickchart\" onclick=\"quickchart('df-6b28f46f-31fb-4266-85b8-b8e8e77f9794')\"\n",
              "              title=\"Suggest charts.\"\n",
              "              style=\"display:none;\">\n",
              "\n",
              "<svg xmlns=\"http://www.w3.org/2000/svg\" height=\"24px\"viewBox=\"0 0 24 24\"\n",
              "     width=\"24px\">\n",
              "    <g>\n",
              "        <path d=\"M19 3H5c-1.1 0-2 .9-2 2v14c0 1.1.9 2 2 2h14c1.1 0 2-.9 2-2V5c0-1.1-.9-2-2-2zM9 17H7v-7h2v7zm4 0h-2V7h2v10zm4 0h-2v-4h2v4z\"/>\n",
              "    </g>\n",
              "</svg>\n",
              "      </button>\n",
              "    </div>\n",
              "\n",
              "<style>\n",
              "  .colab-df-quickchart {\n",
              "    background-color: #E8F0FE;\n",
              "    border: none;\n",
              "    border-radius: 50%;\n",
              "    cursor: pointer;\n",
              "    display: none;\n",
              "    fill: #1967D2;\n",
              "    height: 32px;\n",
              "    padding: 0 0 0 0;\n",
              "    width: 32px;\n",
              "  }\n",
              "\n",
              "  .colab-df-quickchart:hover {\n",
              "    background-color: #E2EBFA;\n",
              "    box-shadow: 0px 1px 2px rgba(60, 64, 67, 0.3), 0px 1px 3px 1px rgba(60, 64, 67, 0.15);\n",
              "    fill: #174EA6;\n",
              "  }\n",
              "\n",
              "  [theme=dark] .colab-df-quickchart {\n",
              "    background-color: #3B4455;\n",
              "    fill: #D2E3FC;\n",
              "  }\n",
              "\n",
              "  [theme=dark] .colab-df-quickchart:hover {\n",
              "    background-color: #434B5C;\n",
              "    box-shadow: 0px 1px 3px 1px rgba(0, 0, 0, 0.15);\n",
              "    filter: drop-shadow(0px 1px 2px rgba(0, 0, 0, 0.3));\n",
              "    fill: #FFFFFF;\n",
              "  }\n",
              "</style>\n",
              "\n",
              "    <script>\n",
              "      async function quickchart(key) {\n",
              "        const containerElement = document.querySelector('#' + key);\n",
              "        const charts = await google.colab.kernel.invokeFunction(\n",
              "            'suggestCharts', [key], {});\n",
              "      }\n",
              "    </script>\n",
              "\n",
              "      <script>\n",
              "\n",
              "function displayQuickchartButton(domScope) {\n",
              "  let quickchartButtonEl =\n",
              "    domScope.querySelector('#df-6b28f46f-31fb-4266-85b8-b8e8e77f9794 button.colab-df-quickchart');\n",
              "  quickchartButtonEl.style.display =\n",
              "    google.colab.kernel.accessAllowed ? 'block' : 'none';\n",
              "}\n",
              "\n",
              "        displayQuickchartButton(document);\n",
              "      </script>\n",
              "      <style>\n",
              "    .colab-df-container {\n",
              "      display:flex;\n",
              "      flex-wrap:wrap;\n",
              "      gap: 12px;\n",
              "    }\n",
              "\n",
              "    .colab-df-convert {\n",
              "      background-color: #E8F0FE;\n",
              "      border: none;\n",
              "      border-radius: 50%;\n",
              "      cursor: pointer;\n",
              "      display: none;\n",
              "      fill: #1967D2;\n",
              "      height: 32px;\n",
              "      padding: 0 0 0 0;\n",
              "      width: 32px;\n",
              "    }\n",
              "\n",
              "    .colab-df-convert:hover {\n",
              "      background-color: #E2EBFA;\n",
              "      box-shadow: 0px 1px 2px rgba(60, 64, 67, 0.3), 0px 1px 3px 1px rgba(60, 64, 67, 0.15);\n",
              "      fill: #174EA6;\n",
              "    }\n",
              "\n",
              "    [theme=dark] .colab-df-convert {\n",
              "      background-color: #3B4455;\n",
              "      fill: #D2E3FC;\n",
              "    }\n",
              "\n",
              "    [theme=dark] .colab-df-convert:hover {\n",
              "      background-color: #434B5C;\n",
              "      box-shadow: 0px 1px 3px 1px rgba(0, 0, 0, 0.15);\n",
              "      filter: drop-shadow(0px 1px 2px rgba(0, 0, 0, 0.3));\n",
              "      fill: #FFFFFF;\n",
              "    }\n",
              "  </style>\n",
              "\n",
              "      <script>\n",
              "        const buttonEl =\n",
              "          document.querySelector('#df-881eb4cf-3fb4-4419-98c6-bf2965c42b09 button.colab-df-convert');\n",
              "        buttonEl.style.display =\n",
              "          google.colab.kernel.accessAllowed ? 'block' : 'none';\n",
              "\n",
              "        async function convertToInteractive(key) {\n",
              "          const element = document.querySelector('#df-881eb4cf-3fb4-4419-98c6-bf2965c42b09');\n",
              "          const dataTable =\n",
              "            await google.colab.kernel.invokeFunction('convertToInteractive',\n",
              "                                                     [key], {});\n",
              "          if (!dataTable) return;\n",
              "\n",
              "          const docLinkHtml = 'Like what you see? Visit the ' +\n",
              "            '<a target=\"_blank\" href=https://colab.research.google.com/notebooks/data_table.ipynb>data table notebook</a>'\n",
              "            + ' to learn more about interactive tables.';\n",
              "          element.innerHTML = '';\n",
              "          dataTable['output_type'] = 'display_data';\n",
              "          await google.colab.output.renderOutput(dataTable, element);\n",
              "          const docLink = document.createElement('div');\n",
              "          docLink.innerHTML = docLinkHtml;\n",
              "          element.appendChild(docLink);\n",
              "        }\n",
              "      </script>\n",
              "    </div>\n",
              "  </div>\n"
            ]
          },
          "metadata": {},
          "execution_count": 7
        }
      ]
    },
    {
      "cell_type": "code",
      "source": [
        "data_e = data_e.dropna()\n",
        "us = data_e[data_e['Entity'] == 'United States']\n",
        "cn = data_e[data_e['Entity'] == 'China']\n",
        "wd = data_e[data_e['Entity'] == 'World']\n",
        "wd = wd.reset_index(drop = True)\n",
        "us = us.reset_index(drop = True)\n",
        "\n",
        "coco = pd.Series([1.6e+10, 2.02e+10, 2.25e+10, 2.48e+10, 3.26e+10, 3.49e+10, 3.54e+10, 3.6e+10], name='CO2')\n",
        "wd = pd.concat([wd, coco], axis=1)\n",
        "us = pd.concat([us, coco], axis=1)"
      ],
      "metadata": {
        "id": "Ke-fwHWV8niV"
      },
      "execution_count": null,
      "outputs": []
    },
    {
      "cell_type": "code",
      "source": [
        "wd_rowval = np.where(wd['Entity'] == 'World')[0]\n",
        "World = [wd['Total GDP'][wd_rowval[0]:wd_rowval[-1]], wd['CO2'][wd_rowval[0]:wd_rowval[-1]]]\n",
        "Worldy = [wd['Year'][wd_rowval[0]:wd_rowval[-1]], wd['energy consumption / GDP'][wd_rowval[0]:wd_rowval[-1]]]\n",
        "Worlde = [wd['energy consumption / GDP'][wd_rowval[0]:wd_rowval[-1]], wd['Annual CO₂ emissions'][wd_rowval[0]:wd_rowval[-1]]]\n",
        "Worldc = [wd['Annual CO₂ emissions / energy'][wd_rowval[0]:wd_rowval[-1]], wd['CO2'][wd_rowval[0]:wd_rowval[-1]]]\n",
        "wd"
      ],
      "metadata": {
        "id": "NUE_TAzJpl9T",
        "colab": {
          "base_uri": "https://localhost:8080/",
          "height": 412
        },
        "outputId": "cec74aec-a056-4ab6-99e9-62388d32bf78"
      },
      "execution_count": null,
      "outputs": [
        {
          "output_type": "execute_result",
          "data": {
            "text/plain": [
              "  Entity  Year    Population  energy consumption / GDP  GDP per capita  \\\n",
              "0  World  1970  3.695390e+09                  2.611443        5951.549   \n",
              "1  World  1980  4.444008e+09                  2.444506        7232.973   \n",
              "2  World  1990  5.316176e+09                  2.220623        8222.479   \n",
              "3  World  2000  6.148899e+09                  1.841508        9914.567   \n",
              "4  World  2010  6.985603e+09                  1.573360       13179.495   \n",
              "5  World  2016  7.513474e+09                  1.441357       14700.372   \n",
              "6  World  2017  7.599822e+09                  1.425386       14944.094   \n",
              "7  World  2018  7.683790e+09                  1.423677       15212.415   \n",
              "\n",
              "   Annual CO₂ emissions  Annual CO₂ emissions / energy     Total GDP  \\\n",
              "0          1.489872e+10                       0.261531  2.199330e+13   \n",
              "1          1.950126e+10                       0.250230  3.214339e+13   \n",
              "2          2.275748e+10                       0.238230  4.371214e+13   \n",
              "3          2.545362e+10                       0.230883  6.096367e+13   \n",
              "4          3.336435e+10                       0.236125  9.206672e+13   \n",
              "5          3.552419e+10                       0.230051  1.104509e+14   \n",
              "6          3.609674e+10                       0.229322  1.135725e+14   \n",
              "7          3.682651e+10                       0.227644  1.168890e+14   \n",
              "\n",
              "            CO2  \n",
              "0  1.600000e+10  \n",
              "1  2.020000e+10  \n",
              "2  2.250000e+10  \n",
              "3  2.480000e+10  \n",
              "4  3.260000e+10  \n",
              "5  3.490000e+10  \n",
              "6  3.540000e+10  \n",
              "7  3.600000e+10  "
            ],
            "text/html": [
              "\n",
              "\n",
              "  <div id=\"df-d8cc0663-44c9-4762-ba09-7bc7e3dd2cd4\">\n",
              "    <div class=\"colab-df-container\">\n",
              "      <div>\n",
              "<style scoped>\n",
              "    .dataframe tbody tr th:only-of-type {\n",
              "        vertical-align: middle;\n",
              "    }\n",
              "\n",
              "    .dataframe tbody tr th {\n",
              "        vertical-align: top;\n",
              "    }\n",
              "\n",
              "    .dataframe thead th {\n",
              "        text-align: right;\n",
              "    }\n",
              "</style>\n",
              "<table border=\"1\" class=\"dataframe\">\n",
              "  <thead>\n",
              "    <tr style=\"text-align: right;\">\n",
              "      <th></th>\n",
              "      <th>Entity</th>\n",
              "      <th>Year</th>\n",
              "      <th>Population</th>\n",
              "      <th>energy consumption / GDP</th>\n",
              "      <th>GDP per capita</th>\n",
              "      <th>Annual CO₂ emissions</th>\n",
              "      <th>Annual CO₂ emissions / energy</th>\n",
              "      <th>Total GDP</th>\n",
              "      <th>CO2</th>\n",
              "    </tr>\n",
              "  </thead>\n",
              "  <tbody>\n",
              "    <tr>\n",
              "      <th>0</th>\n",
              "      <td>World</td>\n",
              "      <td>1970</td>\n",
              "      <td>3.695390e+09</td>\n",
              "      <td>2.611443</td>\n",
              "      <td>5951.549</td>\n",
              "      <td>1.489872e+10</td>\n",
              "      <td>0.261531</td>\n",
              "      <td>2.199330e+13</td>\n",
              "      <td>1.600000e+10</td>\n",
              "    </tr>\n",
              "    <tr>\n",
              "      <th>1</th>\n",
              "      <td>World</td>\n",
              "      <td>1980</td>\n",
              "      <td>4.444008e+09</td>\n",
              "      <td>2.444506</td>\n",
              "      <td>7232.973</td>\n",
              "      <td>1.950126e+10</td>\n",
              "      <td>0.250230</td>\n",
              "      <td>3.214339e+13</td>\n",
              "      <td>2.020000e+10</td>\n",
              "    </tr>\n",
              "    <tr>\n",
              "      <th>2</th>\n",
              "      <td>World</td>\n",
              "      <td>1990</td>\n",
              "      <td>5.316176e+09</td>\n",
              "      <td>2.220623</td>\n",
              "      <td>8222.479</td>\n",
              "      <td>2.275748e+10</td>\n",
              "      <td>0.238230</td>\n",
              "      <td>4.371214e+13</td>\n",
              "      <td>2.250000e+10</td>\n",
              "    </tr>\n",
              "    <tr>\n",
              "      <th>3</th>\n",
              "      <td>World</td>\n",
              "      <td>2000</td>\n",
              "      <td>6.148899e+09</td>\n",
              "      <td>1.841508</td>\n",
              "      <td>9914.567</td>\n",
              "      <td>2.545362e+10</td>\n",
              "      <td>0.230883</td>\n",
              "      <td>6.096367e+13</td>\n",
              "      <td>2.480000e+10</td>\n",
              "    </tr>\n",
              "    <tr>\n",
              "      <th>4</th>\n",
              "      <td>World</td>\n",
              "      <td>2010</td>\n",
              "      <td>6.985603e+09</td>\n",
              "      <td>1.573360</td>\n",
              "      <td>13179.495</td>\n",
              "      <td>3.336435e+10</td>\n",
              "      <td>0.236125</td>\n",
              "      <td>9.206672e+13</td>\n",
              "      <td>3.260000e+10</td>\n",
              "    </tr>\n",
              "    <tr>\n",
              "      <th>5</th>\n",
              "      <td>World</td>\n",
              "      <td>2016</td>\n",
              "      <td>7.513474e+09</td>\n",
              "      <td>1.441357</td>\n",
              "      <td>14700.372</td>\n",
              "      <td>3.552419e+10</td>\n",
              "      <td>0.230051</td>\n",
              "      <td>1.104509e+14</td>\n",
              "      <td>3.490000e+10</td>\n",
              "    </tr>\n",
              "    <tr>\n",
              "      <th>6</th>\n",
              "      <td>World</td>\n",
              "      <td>2017</td>\n",
              "      <td>7.599822e+09</td>\n",
              "      <td>1.425386</td>\n",
              "      <td>14944.094</td>\n",
              "      <td>3.609674e+10</td>\n",
              "      <td>0.229322</td>\n",
              "      <td>1.135725e+14</td>\n",
              "      <td>3.540000e+10</td>\n",
              "    </tr>\n",
              "    <tr>\n",
              "      <th>7</th>\n",
              "      <td>World</td>\n",
              "      <td>2018</td>\n",
              "      <td>7.683790e+09</td>\n",
              "      <td>1.423677</td>\n",
              "      <td>15212.415</td>\n",
              "      <td>3.682651e+10</td>\n",
              "      <td>0.227644</td>\n",
              "      <td>1.168890e+14</td>\n",
              "      <td>3.600000e+10</td>\n",
              "    </tr>\n",
              "  </tbody>\n",
              "</table>\n",
              "</div>\n",
              "      <button class=\"colab-df-convert\" onclick=\"convertToInteractive('df-d8cc0663-44c9-4762-ba09-7bc7e3dd2cd4')\"\n",
              "              title=\"Convert this dataframe to an interactive table.\"\n",
              "              style=\"display:none;\">\n",
              "\n",
              "  <svg xmlns=\"http://www.w3.org/2000/svg\" height=\"24px\"viewBox=\"0 0 24 24\"\n",
              "       width=\"24px\">\n",
              "    <path d=\"M0 0h24v24H0V0z\" fill=\"none\"/>\n",
              "    <path d=\"M18.56 5.44l.94 2.06.94-2.06 2.06-.94-2.06-.94-.94-2.06-.94 2.06-2.06.94zm-11 1L8.5 8.5l.94-2.06 2.06-.94-2.06-.94L8.5 2.5l-.94 2.06-2.06.94zm10 10l.94 2.06.94-2.06 2.06-.94-2.06-.94-.94-2.06-.94 2.06-2.06.94z\"/><path d=\"M17.41 7.96l-1.37-1.37c-.4-.4-.92-.59-1.43-.59-.52 0-1.04.2-1.43.59L10.3 9.45l-7.72 7.72c-.78.78-.78 2.05 0 2.83L4 21.41c.39.39.9.59 1.41.59.51 0 1.02-.2 1.41-.59l7.78-7.78 2.81-2.81c.8-.78.8-2.07 0-2.86zM5.41 20L4 18.59l7.72-7.72 1.47 1.35L5.41 20z\"/>\n",
              "  </svg>\n",
              "      </button>\n",
              "\n",
              "\n",
              "\n",
              "    <div id=\"df-1563323e-3327-4c95-b85d-67105019e4fc\">\n",
              "      <button class=\"colab-df-quickchart\" onclick=\"quickchart('df-1563323e-3327-4c95-b85d-67105019e4fc')\"\n",
              "              title=\"Suggest charts.\"\n",
              "              style=\"display:none;\">\n",
              "\n",
              "<svg xmlns=\"http://www.w3.org/2000/svg\" height=\"24px\"viewBox=\"0 0 24 24\"\n",
              "     width=\"24px\">\n",
              "    <g>\n",
              "        <path d=\"M19 3H5c-1.1 0-2 .9-2 2v14c0 1.1.9 2 2 2h14c1.1 0 2-.9 2-2V5c0-1.1-.9-2-2-2zM9 17H7v-7h2v7zm4 0h-2V7h2v10zm4 0h-2v-4h2v4z\"/>\n",
              "    </g>\n",
              "</svg>\n",
              "      </button>\n",
              "    </div>\n",
              "\n",
              "<style>\n",
              "  .colab-df-quickchart {\n",
              "    background-color: #E8F0FE;\n",
              "    border: none;\n",
              "    border-radius: 50%;\n",
              "    cursor: pointer;\n",
              "    display: none;\n",
              "    fill: #1967D2;\n",
              "    height: 32px;\n",
              "    padding: 0 0 0 0;\n",
              "    width: 32px;\n",
              "  }\n",
              "\n",
              "  .colab-df-quickchart:hover {\n",
              "    background-color: #E2EBFA;\n",
              "    box-shadow: 0px 1px 2px rgba(60, 64, 67, 0.3), 0px 1px 3px 1px rgba(60, 64, 67, 0.15);\n",
              "    fill: #174EA6;\n",
              "  }\n",
              "\n",
              "  [theme=dark] .colab-df-quickchart {\n",
              "    background-color: #3B4455;\n",
              "    fill: #D2E3FC;\n",
              "  }\n",
              "\n",
              "  [theme=dark] .colab-df-quickchart:hover {\n",
              "    background-color: #434B5C;\n",
              "    box-shadow: 0px 1px 3px 1px rgba(0, 0, 0, 0.15);\n",
              "    filter: drop-shadow(0px 1px 2px rgba(0, 0, 0, 0.3));\n",
              "    fill: #FFFFFF;\n",
              "  }\n",
              "</style>\n",
              "\n",
              "    <script>\n",
              "      async function quickchart(key) {\n",
              "        const containerElement = document.querySelector('#' + key);\n",
              "        const charts = await google.colab.kernel.invokeFunction(\n",
              "            'suggestCharts', [key], {});\n",
              "      }\n",
              "    </script>\n",
              "\n",
              "      <script>\n",
              "\n",
              "function displayQuickchartButton(domScope) {\n",
              "  let quickchartButtonEl =\n",
              "    domScope.querySelector('#df-1563323e-3327-4c95-b85d-67105019e4fc button.colab-df-quickchart');\n",
              "  quickchartButtonEl.style.display =\n",
              "    google.colab.kernel.accessAllowed ? 'block' : 'none';\n",
              "}\n",
              "\n",
              "        displayQuickchartButton(document);\n",
              "      </script>\n",
              "      <style>\n",
              "    .colab-df-container {\n",
              "      display:flex;\n",
              "      flex-wrap:wrap;\n",
              "      gap: 12px;\n",
              "    }\n",
              "\n",
              "    .colab-df-convert {\n",
              "      background-color: #E8F0FE;\n",
              "      border: none;\n",
              "      border-radius: 50%;\n",
              "      cursor: pointer;\n",
              "      display: none;\n",
              "      fill: #1967D2;\n",
              "      height: 32px;\n",
              "      padding: 0 0 0 0;\n",
              "      width: 32px;\n",
              "    }\n",
              "\n",
              "    .colab-df-convert:hover {\n",
              "      background-color: #E2EBFA;\n",
              "      box-shadow: 0px 1px 2px rgba(60, 64, 67, 0.3), 0px 1px 3px 1px rgba(60, 64, 67, 0.15);\n",
              "      fill: #174EA6;\n",
              "    }\n",
              "\n",
              "    [theme=dark] .colab-df-convert {\n",
              "      background-color: #3B4455;\n",
              "      fill: #D2E3FC;\n",
              "    }\n",
              "\n",
              "    [theme=dark] .colab-df-convert:hover {\n",
              "      background-color: #434B5C;\n",
              "      box-shadow: 0px 1px 3px 1px rgba(0, 0, 0, 0.15);\n",
              "      filter: drop-shadow(0px 1px 2px rgba(0, 0, 0, 0.3));\n",
              "      fill: #FFFFFF;\n",
              "    }\n",
              "  </style>\n",
              "\n",
              "      <script>\n",
              "        const buttonEl =\n",
              "          document.querySelector('#df-d8cc0663-44c9-4762-ba09-7bc7e3dd2cd4 button.colab-df-convert');\n",
              "        buttonEl.style.display =\n",
              "          google.colab.kernel.accessAllowed ? 'block' : 'none';\n",
              "\n",
              "        async function convertToInteractive(key) {\n",
              "          const element = document.querySelector('#df-d8cc0663-44c9-4762-ba09-7bc7e3dd2cd4');\n",
              "          const dataTable =\n",
              "            await google.colab.kernel.invokeFunction('convertToInteractive',\n",
              "                                                     [key], {});\n",
              "          if (!dataTable) return;\n",
              "\n",
              "          const docLinkHtml = 'Like what you see? Visit the ' +\n",
              "            '<a target=\"_blank\" href=https://colab.research.google.com/notebooks/data_table.ipynb>data table notebook</a>'\n",
              "            + ' to learn more about interactive tables.';\n",
              "          element.innerHTML = '';\n",
              "          dataTable['output_type'] = 'display_data';\n",
              "          await google.colab.output.renderOutput(dataTable, element);\n",
              "          const docLink = document.createElement('div');\n",
              "          docLink.innerHTML = docLinkHtml;\n",
              "          element.appendChild(docLink);\n",
              "        }\n",
              "      </script>\n",
              "    </div>\n",
              "  </div>\n"
            ]
          },
          "metadata": {},
          "execution_count": 9
        }
      ]
    },
    {
      "cell_type": "code",
      "source": [
        "data_s1.head(81)"
      ],
      "metadata": {
        "colab": {
          "base_uri": "https://localhost:8080/",
          "height": 419
        },
        "id": "OlDN9PPb2AVV",
        "outputId": "b5525a3a-b5f2-4e53-a969-23bdbb8ce5fe"
      },
      "execution_count": null,
      "outputs": [
        {
          "output_type": "execute_result",
          "data": {
            "text/plain": [
              "    cum_emissions_hat1         ann  year            y1            y2  \\\n",
              "0          131670.4200    0.000000  1880  0.000000e+00  0.000000e+00   \n",
              "1          131670.4200    0.000011  1881  2.843384e+00  2.843384e+00   \n",
              "2          131670.4201    0.000058  1882  1.457600e+01  1.455065e+01   \n",
              "3          131670.4203    0.000199  1883  5.135943e+01  5.115306e+01   \n",
              "4          131670.4208    0.000569  1884  1.489366e+02  1.493823e+02   \n",
              "..                 ...         ...   ...           ...           ...   \n",
              "76         790731.9275   87.831874  1956  7.388856e+07  7.388780e+07   \n",
              "77         790743.5236   11.596075  1957  9.914618e+06  9.914633e+06   \n",
              "78         790755.7155   12.191950  1958  1.059444e+07  1.059523e+07   \n",
              "79         790848.0670   92.351490  1959  8.156216e+07  8.156169e+07   \n",
              "80         791110.9596  262.892524  1960  2.359734e+08  2.359727e+08   \n",
              "\n",
              "              y3  \n",
              "0            NaN  \n",
              "1   6.435026e+08  \n",
              "2   6.717635e+08  \n",
              "3   7.033526e+08  \n",
              "4   7.227023e+08  \n",
              "..           ...  \n",
              "76  1.135687e+10  \n",
              "77  1.196997e+10  \n",
              "78  1.251317e+10  \n",
              "79  1.333588e+10  \n",
              "80  1.418214e+10  \n",
              "\n",
              "[81 rows x 6 columns]"
            ],
            "text/html": [
              "\n",
              "\n",
              "  <div id=\"df-d5051224-a056-4911-9774-23525f7c23e8\">\n",
              "    <div class=\"colab-df-container\">\n",
              "      <div>\n",
              "<style scoped>\n",
              "    .dataframe tbody tr th:only-of-type {\n",
              "        vertical-align: middle;\n",
              "    }\n",
              "\n",
              "    .dataframe tbody tr th {\n",
              "        vertical-align: top;\n",
              "    }\n",
              "\n",
              "    .dataframe thead th {\n",
              "        text-align: right;\n",
              "    }\n",
              "</style>\n",
              "<table border=\"1\" class=\"dataframe\">\n",
              "  <thead>\n",
              "    <tr style=\"text-align: right;\">\n",
              "      <th></th>\n",
              "      <th>cum_emissions_hat1</th>\n",
              "      <th>ann</th>\n",
              "      <th>year</th>\n",
              "      <th>y1</th>\n",
              "      <th>y2</th>\n",
              "      <th>y3</th>\n",
              "    </tr>\n",
              "  </thead>\n",
              "  <tbody>\n",
              "    <tr>\n",
              "      <th>0</th>\n",
              "      <td>131670.4200</td>\n",
              "      <td>0.000000</td>\n",
              "      <td>1880</td>\n",
              "      <td>0.000000e+00</td>\n",
              "      <td>0.000000e+00</td>\n",
              "      <td>NaN</td>\n",
              "    </tr>\n",
              "    <tr>\n",
              "      <th>1</th>\n",
              "      <td>131670.4200</td>\n",
              "      <td>0.000011</td>\n",
              "      <td>1881</td>\n",
              "      <td>2.843384e+00</td>\n",
              "      <td>2.843384e+00</td>\n",
              "      <td>6.435026e+08</td>\n",
              "    </tr>\n",
              "    <tr>\n",
              "      <th>2</th>\n",
              "      <td>131670.4201</td>\n",
              "      <td>0.000058</td>\n",
              "      <td>1882</td>\n",
              "      <td>1.457600e+01</td>\n",
              "      <td>1.455065e+01</td>\n",
              "      <td>6.717635e+08</td>\n",
              "    </tr>\n",
              "    <tr>\n",
              "      <th>3</th>\n",
              "      <td>131670.4203</td>\n",
              "      <td>0.000199</td>\n",
              "      <td>1883</td>\n",
              "      <td>5.135943e+01</td>\n",
              "      <td>5.115306e+01</td>\n",
              "      <td>7.033526e+08</td>\n",
              "    </tr>\n",
              "    <tr>\n",
              "      <th>4</th>\n",
              "      <td>131670.4208</td>\n",
              "      <td>0.000569</td>\n",
              "      <td>1884</td>\n",
              "      <td>1.489366e+02</td>\n",
              "      <td>1.493823e+02</td>\n",
              "      <td>7.227023e+08</td>\n",
              "    </tr>\n",
              "    <tr>\n",
              "      <th>...</th>\n",
              "      <td>...</td>\n",
              "      <td>...</td>\n",
              "      <td>...</td>\n",
              "      <td>...</td>\n",
              "      <td>...</td>\n",
              "      <td>...</td>\n",
              "    </tr>\n",
              "    <tr>\n",
              "      <th>76</th>\n",
              "      <td>790731.9275</td>\n",
              "      <td>87.831874</td>\n",
              "      <td>1956</td>\n",
              "      <td>7.388856e+07</td>\n",
              "      <td>7.388780e+07</td>\n",
              "      <td>1.135687e+10</td>\n",
              "    </tr>\n",
              "    <tr>\n",
              "      <th>77</th>\n",
              "      <td>790743.5236</td>\n",
              "      <td>11.596075</td>\n",
              "      <td>1957</td>\n",
              "      <td>9.914618e+06</td>\n",
              "      <td>9.914633e+06</td>\n",
              "      <td>1.196997e+10</td>\n",
              "    </tr>\n",
              "    <tr>\n",
              "      <th>78</th>\n",
              "      <td>790755.7155</td>\n",
              "      <td>12.191950</td>\n",
              "      <td>1958</td>\n",
              "      <td>1.059444e+07</td>\n",
              "      <td>1.059523e+07</td>\n",
              "      <td>1.251317e+10</td>\n",
              "    </tr>\n",
              "    <tr>\n",
              "      <th>79</th>\n",
              "      <td>790848.0670</td>\n",
              "      <td>92.351490</td>\n",
              "      <td>1959</td>\n",
              "      <td>8.156216e+07</td>\n",
              "      <td>8.156169e+07</td>\n",
              "      <td>1.333588e+10</td>\n",
              "    </tr>\n",
              "    <tr>\n",
              "      <th>80</th>\n",
              "      <td>791110.9596</td>\n",
              "      <td>262.892524</td>\n",
              "      <td>1960</td>\n",
              "      <td>2.359734e+08</td>\n",
              "      <td>2.359727e+08</td>\n",
              "      <td>1.418214e+10</td>\n",
              "    </tr>\n",
              "  </tbody>\n",
              "</table>\n",
              "<p>81 rows × 6 columns</p>\n",
              "</div>\n",
              "      <button class=\"colab-df-convert\" onclick=\"convertToInteractive('df-d5051224-a056-4911-9774-23525f7c23e8')\"\n",
              "              title=\"Convert this dataframe to an interactive table.\"\n",
              "              style=\"display:none;\">\n",
              "\n",
              "  <svg xmlns=\"http://www.w3.org/2000/svg\" height=\"24px\"viewBox=\"0 0 24 24\"\n",
              "       width=\"24px\">\n",
              "    <path d=\"M0 0h24v24H0V0z\" fill=\"none\"/>\n",
              "    <path d=\"M18.56 5.44l.94 2.06.94-2.06 2.06-.94-2.06-.94-.94-2.06-.94 2.06-2.06.94zm-11 1L8.5 8.5l.94-2.06 2.06-.94-2.06-.94L8.5 2.5l-.94 2.06-2.06.94zm10 10l.94 2.06.94-2.06 2.06-.94-2.06-.94-.94-2.06-.94 2.06-2.06.94z\"/><path d=\"M17.41 7.96l-1.37-1.37c-.4-.4-.92-.59-1.43-.59-.52 0-1.04.2-1.43.59L10.3 9.45l-7.72 7.72c-.78.78-.78 2.05 0 2.83L4 21.41c.39.39.9.59 1.41.59.51 0 1.02-.2 1.41-.59l7.78-7.78 2.81-2.81c.8-.78.8-2.07 0-2.86zM5.41 20L4 18.59l7.72-7.72 1.47 1.35L5.41 20z\"/>\n",
              "  </svg>\n",
              "      </button>\n",
              "\n",
              "\n",
              "\n",
              "    <div id=\"df-d549e27a-342c-4533-9718-3ef1e2dd72bd\">\n",
              "      <button class=\"colab-df-quickchart\" onclick=\"quickchart('df-d549e27a-342c-4533-9718-3ef1e2dd72bd')\"\n",
              "              title=\"Suggest charts.\"\n",
              "              style=\"display:none;\">\n",
              "\n",
              "<svg xmlns=\"http://www.w3.org/2000/svg\" height=\"24px\"viewBox=\"0 0 24 24\"\n",
              "     width=\"24px\">\n",
              "    <g>\n",
              "        <path d=\"M19 3H5c-1.1 0-2 .9-2 2v14c0 1.1.9 2 2 2h14c1.1 0 2-.9 2-2V5c0-1.1-.9-2-2-2zM9 17H7v-7h2v7zm4 0h-2V7h2v10zm4 0h-2v-4h2v4z\"/>\n",
              "    </g>\n",
              "</svg>\n",
              "      </button>\n",
              "    </div>\n",
              "\n",
              "<style>\n",
              "  .colab-df-quickchart {\n",
              "    background-color: #E8F0FE;\n",
              "    border: none;\n",
              "    border-radius: 50%;\n",
              "    cursor: pointer;\n",
              "    display: none;\n",
              "    fill: #1967D2;\n",
              "    height: 32px;\n",
              "    padding: 0 0 0 0;\n",
              "    width: 32px;\n",
              "  }\n",
              "\n",
              "  .colab-df-quickchart:hover {\n",
              "    background-color: #E2EBFA;\n",
              "    box-shadow: 0px 1px 2px rgba(60, 64, 67, 0.3), 0px 1px 3px 1px rgba(60, 64, 67, 0.15);\n",
              "    fill: #174EA6;\n",
              "  }\n",
              "\n",
              "  [theme=dark] .colab-df-quickchart {\n",
              "    background-color: #3B4455;\n",
              "    fill: #D2E3FC;\n",
              "  }\n",
              "\n",
              "  [theme=dark] .colab-df-quickchart:hover {\n",
              "    background-color: #434B5C;\n",
              "    box-shadow: 0px 1px 3px 1px rgba(0, 0, 0, 0.15);\n",
              "    filter: drop-shadow(0px 1px 2px rgba(0, 0, 0, 0.3));\n",
              "    fill: #FFFFFF;\n",
              "  }\n",
              "</style>\n",
              "\n",
              "    <script>\n",
              "      async function quickchart(key) {\n",
              "        const containerElement = document.querySelector('#' + key);\n",
              "        const charts = await google.colab.kernel.invokeFunction(\n",
              "            'suggestCharts', [key], {});\n",
              "      }\n",
              "    </script>\n",
              "\n",
              "      <script>\n",
              "\n",
              "function displayQuickchartButton(domScope) {\n",
              "  let quickchartButtonEl =\n",
              "    domScope.querySelector('#df-d549e27a-342c-4533-9718-3ef1e2dd72bd button.colab-df-quickchart');\n",
              "  quickchartButtonEl.style.display =\n",
              "    google.colab.kernel.accessAllowed ? 'block' : 'none';\n",
              "}\n",
              "\n",
              "        displayQuickchartButton(document);\n",
              "      </script>\n",
              "      <style>\n",
              "    .colab-df-container {\n",
              "      display:flex;\n",
              "      flex-wrap:wrap;\n",
              "      gap: 12px;\n",
              "    }\n",
              "\n",
              "    .colab-df-convert {\n",
              "      background-color: #E8F0FE;\n",
              "      border: none;\n",
              "      border-radius: 50%;\n",
              "      cursor: pointer;\n",
              "      display: none;\n",
              "      fill: #1967D2;\n",
              "      height: 32px;\n",
              "      padding: 0 0 0 0;\n",
              "      width: 32px;\n",
              "    }\n",
              "\n",
              "    .colab-df-convert:hover {\n",
              "      background-color: #E2EBFA;\n",
              "      box-shadow: 0px 1px 2px rgba(60, 64, 67, 0.3), 0px 1px 3px 1px rgba(60, 64, 67, 0.15);\n",
              "      fill: #174EA6;\n",
              "    }\n",
              "\n",
              "    [theme=dark] .colab-df-convert {\n",
              "      background-color: #3B4455;\n",
              "      fill: #D2E3FC;\n",
              "    }\n",
              "\n",
              "    [theme=dark] .colab-df-convert:hover {\n",
              "      background-color: #434B5C;\n",
              "      box-shadow: 0px 1px 3px 1px rgba(0, 0, 0, 0.15);\n",
              "      filter: drop-shadow(0px 1px 2px rgba(0, 0, 0, 0.3));\n",
              "      fill: #FFFFFF;\n",
              "    }\n",
              "  </style>\n",
              "\n",
              "      <script>\n",
              "        const buttonEl =\n",
              "          document.querySelector('#df-d5051224-a056-4911-9774-23525f7c23e8 button.colab-df-convert');\n",
              "        buttonEl.style.display =\n",
              "          google.colab.kernel.accessAllowed ? 'block' : 'none';\n",
              "\n",
              "        async function convertToInteractive(key) {\n",
              "          const element = document.querySelector('#df-d5051224-a056-4911-9774-23525f7c23e8');\n",
              "          const dataTable =\n",
              "            await google.colab.kernel.invokeFunction('convertToInteractive',\n",
              "                                                     [key], {});\n",
              "          if (!dataTable) return;\n",
              "\n",
              "          const docLinkHtml = 'Like what you see? Visit the ' +\n",
              "            '<a target=\"_blank\" href=https://colab.research.google.com/notebooks/data_table.ipynb>data table notebook</a>'\n",
              "            + ' to learn more about interactive tables.';\n",
              "          element.innerHTML = '';\n",
              "          dataTable['output_type'] = 'display_data';\n",
              "          await google.colab.output.renderOutput(dataTable, element);\n",
              "          const docLink = document.createElement('div');\n",
              "          docLink.innerHTML = docLinkHtml;\n",
              "          element.appendChild(docLink);\n",
              "        }\n",
              "      </script>\n",
              "    </div>\n",
              "  </div>\n"
            ]
          },
          "metadata": {},
          "execution_count": 161
        }
      ]
    },
    {
      "cell_type": "code",
      "source": [
        "world_corr = wd.corr()\n",
        "mask = np.triu(np.ones_like(world_corr, dtype=bool))\n",
        "cmap = sns.diverging_palette(230, 20, as_cmap=True)\n",
        "sns.heatmap(world_corr, mask=mask, cmap=cmap, vmax=1, center=0, square=True, linewidths=.5, annot=True)"
      ],
      "metadata": {
        "colab": {
          "base_uri": "https://localhost:8080/",
          "height": 706
        },
        "id": "-OE4zL3ZXi5H",
        "outputId": "474414f6-2b95-4b83-c01d-cbc196184ec3"
      },
      "execution_count": null,
      "outputs": [
        {
          "output_type": "stream",
          "name": "stderr",
          "text": [
            "<ipython-input-10-940970ef7bab>:1: FutureWarning: The default value of numeric_only in DataFrame.corr is deprecated. In a future version, it will default to False. Select only valid columns or specify the value of numeric_only to silence this warning.\n",
            "  world_corr = wd.corr()\n"
          ]
        },
        {
          "output_type": "execute_result",
          "data": {
            "text/plain": [
              "<Axes: >"
            ]
          },
          "metadata": {},
          "execution_count": 10
        },
        {
          "output_type": "display_data",
          "data": {
            "text/plain": [
              "<Figure size 640x480 with 2 Axes>"
            ],
            "image/png": "[encoded data removed]"
          },
          "metadata": {}
        }
      ]
    },
    {
      "cell_type": "code",
      "source": [
        "us_corr = us.corr()\n",
        "mask = np.triu(np.ones_like(us_corr, dtype=bool))\n",
        "cmap = sns.diverging_palette(230, 20, as_cmap=True)\n",
        "sns.heatmap(us_corr, mask=mask, cmap=cmap, vmax=1, center=0, square=True, linewidths=.5, annot=True)"
      ],
      "metadata": {
        "colab": {
          "base_uri": "https://localhost:8080/",
          "height": 706
        },
        "id": "JzhLXvxMXorl",
        "outputId": "971e265d-b4e7-4f46-889e-a65b5b7d7a74"
      },
      "execution_count": null,
      "outputs": [
        {
          "output_type": "stream",
          "name": "stderr",
          "text": [
            "<ipython-input-11-e38052b9fe57>:1: FutureWarning: The default value of numeric_only in DataFrame.corr is deprecated. In a future version, it will default to False. Select only valid columns or specify the value of numeric_only to silence this warning.\n",
            "  us_corr = us.corr()\n"
          ]
        },
        {
          "output_type": "execute_result",
          "data": {
            "text/plain": [
              "<Axes: >"
            ]
          },
          "metadata": {},
          "execution_count": 11
        },
        {
          "output_type": "display_data",
          "data": {
            "text/plain": [
              "<Figure size 640x480 with 2 Axes>"
            ],
            "image/png": "[encoded data removed]"
          },
          "metadata": {}
        }
      ]
    },
    {
      "cell_type": "code",
      "source": [
        "cn_corr = cn.corr()\n",
        "mask = np.triu(np.ones_like(cn_corr, dtype=bool))\n",
        "cmap = sns.diverging_palette(230, 20, as_cmap=True)\n",
        "sns.heatmap(cn_corr, mask=mask, cmap=cmap, vmax=1, center=0, square=True, linewidths=.5, annot=True)"
      ],
      "metadata": {
        "colab": {
          "base_uri": "https://localhost:8080/",
          "height": 706
        },
        "id": "WAjykG2OXwlD",
        "outputId": "d1ddfba8-0199-453f-c45a-5e81806d6fee"
      },
      "execution_count": null,
      "outputs": [
        {
          "output_type": "stream",
          "name": "stderr",
          "text": [
            "<ipython-input-12-fe6526cd3ac0>:1: FutureWarning: The default value of numeric_only in DataFrame.corr is deprecated. In a future version, it will default to False. Select only valid columns or specify the value of numeric_only to silence this warning.\n",
            "  cn_corr = cn.corr()\n"
          ]
        },
        {
          "output_type": "execute_result",
          "data": {
            "text/plain": [
              "<Axes: >"
            ]
          },
          "metadata": {},
          "execution_count": 12
        },
        {
          "output_type": "display_data",
          "data": {
            "text/plain": [
              "<Figure size 640x480 with 2 Axes>"
            ],
            "image/png": "[encoded data removed]"
          },
          "metadata": {}
        }
      ]
    },
    {
      "cell_type": "code",
      "source": [
        "sns.regplot(data=wd, x='CO2', y='Total GDP')"
      ],
      "metadata": {
        "colab": {
          "base_uri": "https://localhost:8080/",
          "height": 482
        },
        "id": "YwhakF3wwaoH",
        "outputId": "7926d29c-637d-4234-ada7-9fb768a659d7"
      },
      "execution_count": null,
      "outputs": [
        {
          "output_type": "execute_result",
          "data": {
            "text/plain": [
              "<Axes: xlabel='CO2', ylabel='Total GDP'>"
            ]
          },
          "metadata": {},
          "execution_count": 13
        },
        {
          "output_type": "display_data",
          "data": {
            "text/plain": [
              "<Figure size 640x480 with 1 Axes>"
            ],
            "image/png": "[encoded data removed]"
          },
          "metadata": {}
        }
      ]
    },
    {
      "cell_type": "code",
      "source": [
        "wd['EICI'] = wd['energy consumption / GDP'] * wd['Annual CO₂ emissions / energy']\n",
        "wd['Log'] = np.log(wd['EICI'])\n",
        "wd"
      ],
      "metadata": {
        "id": "APNY2E7wFsV-",
        "colab": {
          "base_uri": "https://localhost:8080/",
          "height": 412
        },
        "outputId": "400be312-ec3f-4463-a71f-f216c66d8027"
      },
      "execution_count": null,
      "outputs": [
        {
          "output_type": "execute_result",
          "data": {
            "text/plain": [
              "  Entity  Year    Population  energy consumption / GDP  GDP per capita  \\\n",
              "0  World  1970  3.695390e+09                  2.611443        5951.549   \n",
              "1  World  1980  4.444008e+09                  2.444506        7232.973   \n",
              "2  World  1990  5.316176e+09                  2.220623        8222.479   \n",
              "3  World  2000  6.148899e+09                  1.841508        9914.567   \n",
              "4  World  2010  6.985603e+09                  1.573360       13179.495   \n",
              "5  World  2016  7.513474e+09                  1.441357       14700.372   \n",
              "6  World  2017  7.599822e+09                  1.425386       14944.094   \n",
              "7  World  2018  7.683790e+09                  1.423677       15212.415   \n",
              "\n",
              "   Annual CO₂ emissions  Annual CO₂ emissions / energy     Total GDP  \\\n",
              "0          1.489872e+10                       0.261531  2.199330e+13   \n",
              "1          1.950126e+10                       0.250230  3.214339e+13   \n",
              "2          2.275748e+10                       0.238230  4.371214e+13   \n",
              "3          2.545362e+10                       0.230883  6.096367e+13   \n",
              "4          3.336435e+10                       0.236125  9.206672e+13   \n",
              "5          3.552419e+10                       0.230051  1.104509e+14   \n",
              "6          3.609674e+10                       0.229322  1.135725e+14   \n",
              "7          3.682651e+10                       0.227644  1.168890e+14   \n",
              "\n",
              "            CO2      EICI       Log  \n",
              "0  1.600000e+10  0.682975 -0.381298  \n",
              "1  2.020000e+10  0.611690 -0.491530  \n",
              "2  2.250000e+10  0.529019 -0.636730  \n",
              "3  2.480000e+10  0.425172 -0.855262  \n",
              "4  3.260000e+10  0.371510 -0.990178  \n",
              "5  3.490000e+10  0.331586 -1.103869  \n",
              "6  3.540000e+10  0.326872 -1.118185  \n",
              "7  3.600000e+10  0.324091 -1.126731  "
            ],
            "text/html": [
              "\n",
              "\n",
              "  <div id=\"df-eedeebe4-de1f-4956-b2f9-ad42cf383164\">\n",
              "    <div class=\"colab-df-container\">\n",
              "      <div>\n",
              "<style scoped>\n",
              "    .dataframe tbody tr th:only-of-type {\n",
              "        vertical-align: middle;\n",
              "    }\n",
              "\n",
              "    .dataframe tbody tr th {\n",
              "        vertical-align: top;\n",
              "    }\n",
              "\n",
              "    .dataframe thead th {\n",
              "        text-align: right;\n",
              "    }\n",
              "</style>\n",
              "<table border=\"1\" class=\"dataframe\">\n",
              "  <thead>\n",
              "    <tr style=\"text-align: right;\">\n",
              "      <th></th>\n",
              "      <th>Entity</th>\n",
              "      <th>Year</th>\n",
              "      <th>Population</th>\n",
              "      <th>energy consumption / GDP</th>\n",
              "      <th>GDP per capita</th>\n",
              "      <th>Annual CO₂ emissions</th>\n",
              "      <th>Annual CO₂ emissions / energy</th>\n",
              "      <th>Total GDP</th>\n",
              "      <th>CO2</th>\n",
              "      <th>EICI</th>\n",
              "      <th>Log</th>\n",
              "    </tr>\n",
              "  </thead>\n",
              "  <tbody>\n",
              "    <tr>\n",
              "      <th>0</th>\n",
              "      <td>World</td>\n",
              "      <td>1970</td>\n",
              "      <td>3.695390e+09</td>\n",
              "      <td>2.611443</td>\n",
              "      <td>5951.549</td>\n",
              "      <td>1.489872e+10</td>\n",
              "      <td>0.261531</td>\n",
              "      <td>2.199330e+13</td>\n",
              "      <td>1.600000e+10</td>\n",
              "      <td>0.682975</td>\n",
              "      <td>-0.381298</td>\n",
              "    </tr>\n",
              "    <tr>\n",
              "      <th>1</th>\n",
              "      <td>World</td>\n",
              "      <td>1980</td>\n",
              "      <td>4.444008e+09</td>\n",
              "      <td>2.444506</td>\n",
              "      <td>7232.973</td>\n",
              "      <td>1.950126e+10</td>\n",
              "      <td>0.250230</td>\n",
              "      <td>3.214339e+13</td>\n",
              "      <td>2.020000e+10</td>\n",
              "      <td>0.611690</td>\n",
              "      <td>-0.491530</td>\n",
              "    </tr>\n",
              "    <tr>\n",
              "      <th>2</th>\n",
              "      <td>World</td>\n",
              "      <td>1990</td>\n",
              "      <td>5.316176e+09</td>\n",
              "      <td>2.220623</td>\n",
              "      <td>8222.479</td>\n",
              "      <td>2.275748e+10</td>\n",
              "      <td>0.238230</td>\n",
              "      <td>4.371214e+13</td>\n",
              "      <td>2.250000e+10</td>\n",
              "      <td>0.529019</td>\n",
              "      <td>-0.636730</td>\n",
              "    </tr>\n",
              "    <tr>\n",
              "      <th>3</th>\n",
              "      <td>World</td>\n",
              "      <td>2000</td>\n",
              "      <td>6.148899e+09</td>\n",
              "      <td>1.841508</td>\n",
              "      <td>9914.567</td>\n",
              "      <td>2.545362e+10</td>\n",
              "      <td>0.230883</td>\n",
              "      <td>6.096367e+13</td>\n",
              "      <td>2.480000e+10</td>\n",
              "      <td>0.425172</td>\n",
              "      <td>-0.855262</td>\n",
              "    </tr>\n",
              "    <tr>\n",
              "      <th>4</th>\n",
              "      <td>World</td>\n",
              "      <td>2010</td>\n",
              "      <td>6.985603e+09</td>\n",
              "      <td>1.573360</td>\n",
              "      <td>13179.495</td>\n",
              "      <td>3.336435e+10</td>\n",
              "      <td>0.236125</td>\n",
              "      <td>9.206672e+13</td>\n",
              "      <td>3.260000e+10</td>\n",
              "      <td>0.371510</td>\n",
              "      <td>-0.990178</td>\n",
              "    </tr>\n",
              "    <tr>\n",
              "      <th>5</th>\n",
              "      <td>World</td>\n",
              "      <td>2016</td>\n",
              "      <td>7.513474e+09</td>\n",
              "      <td>1.441357</td>\n",
              "      <td>14700.372</td>\n",
              "      <td>3.552419e+10</td>\n",
              "      <td>0.230051</td>\n",
              "      <td>1.104509e+14</td>\n",
              "      <td>3.490000e+10</td>\n",
              "      <td>0.331586</td>\n",
              "      <td>-1.103869</td>\n",
              "    </tr>\n",
              "    <tr>\n",
              "      <th>6</th>\n",
              "      <td>World</td>\n",
              "      <td>2017</td>\n",
              "      <td>7.599822e+09</td>\n",
              "      <td>1.425386</td>\n",
              "      <td>14944.094</td>\n",
              "      <td>3.609674e+10</td>\n",
              "      <td>0.229322</td>\n",
              "      <td>1.135725e+14</td>\n",
              "      <td>3.540000e+10</td>\n",
              "      <td>0.326872</td>\n",
              "      <td>-1.118185</td>\n",
              "    </tr>\n",
              "    <tr>\n",
              "      <th>7</th>\n",
              "      <td>World</td>\n",
              "      <td>2018</td>\n",
              "      <td>7.683790e+09</td>\n",
              "      <td>1.423677</td>\n",
              "      <td>15212.415</td>\n",
              "      <td>3.682651e+10</td>\n",
              "      <td>0.227644</td>\n",
              "      <td>1.168890e+14</td>\n",
              "      <td>3.600000e+10</td>\n",
              "      <td>0.324091</td>\n",
              "      <td>-1.126731</td>\n",
              "    </tr>\n",
              "  </tbody>\n",
              "</table>\n",
              "</div>\n",
              "      <button class=\"colab-df-convert\" onclick=\"convertToInteractive('df-eedeebe4-de1f-4956-b2f9-ad42cf383164')\"\n",
              "              title=\"Convert this dataframe to an interactive table.\"\n",
              "              style=\"display:none;\">\n",
              "\n",
              "  <svg xmlns=\"http://www.w3.org/2000/svg\" height=\"24px\"viewBox=\"0 0 24 24\"\n",
              "       width=\"24px\">\n",
              "    <path d=\"M0 0h24v24H0V0z\" fill=\"none\"/>\n",
              "    <path d=\"M18.56 5.44l.94 2.06.94-2.06 2.06-.94-2.06-.94-.94-2.06-.94 2.06-2.06.94zm-11 1L8.5 8.5l.94-2.06 2.06-.94-2.06-.94L8.5 2.5l-.94 2.06-2.06.94zm10 10l.94 2.06.94-2.06 2.06-.94-2.06-.94-.94-2.06-.94 2.06-2.06.94z\"/><path d=\"M17.41 7.96l-1.37-1.37c-.4-.4-.92-.59-1.43-.59-.52 0-1.04.2-1.43.59L10.3 9.45l-7.72 7.72c-.78.78-.78 2.05 0 2.83L4 21.41c.39.39.9.59 1.41.59.51 0 1.02-.2 1.41-.59l7.78-7.78 2.81-2.81c.8-.78.8-2.07 0-2.86zM5.41 20L4 18.59l7.72-7.72 1.47 1.35L5.41 20z\"/>\n",
              "  </svg>\n",
              "      </button>\n",
              "\n",
              "\n",
              "\n",
              "    <div id=\"df-8d5b153e-7021-4288-995b-c45eb90d8bc5\">\n",
              "      <button class=\"colab-df-quickchart\" onclick=\"quickchart('df-8d5b153e-7021-4288-995b-c45eb90d8bc5')\"\n",
              "              title=\"Suggest charts.\"\n",
              "              style=\"display:none;\">\n",
              "\n",
              "<svg xmlns=\"http://www.w3.org/2000/svg\" height=\"24px\"viewBox=\"0 0 24 24\"\n",
              "     width=\"24px\">\n",
              "    <g>\n",
              "        <path d=\"M19 3H5c-1.1 0-2 .9-2 2v14c0 1.1.9 2 2 2h14c1.1 0 2-.9 2-2V5c0-1.1-.9-2-2-2zM9 17H7v-7h2v7zm4 0h-2V7h2v10zm4 0h-2v-4h2v4z\"/>\n",
              "    </g>\n",
              "</svg>\n",
              "      </button>\n",
              "    </div>\n",
              "\n",
              "<style>\n",
              "  .colab-df-quickchart {\n",
              "    background-color: #E8F0FE;\n",
              "    border: none;\n",
              "    border-radius: 50%;\n",
              "    cursor: pointer;\n",
              "    display: none;\n",
              "    fill: #1967D2;\n",
              "    height: 32px;\n",
              "    padding: 0 0 0 0;\n",
              "    width: 32px;\n",
              "  }\n",
              "\n",
              "  .colab-df-quickchart:hover {\n",
              "    background-color: #E2EBFA;\n",
              "    box-shadow: 0px 1px 2px rgba(60, 64, 67, 0.3), 0px 1px 3px 1px rgba(60, 64, 67, 0.15);\n",
              "    fill: #174EA6;\n",
              "  }\n",
              "\n",
              "  [theme=dark] .colab-df-quickchart {\n",
              "    background-color: #3B4455;\n",
              "    fill: #D2E3FC;\n",
              "  }\n",
              "\n",
              "  [theme=dark] .colab-df-quickchart:hover {\n",
              "    background-color: #434B5C;\n",
              "    box-shadow: 0px 1px 3px 1px rgba(0, 0, 0, 0.15);\n",
              "    filter: drop-shadow(0px 1px 2px rgba(0, 0, 0, 0.3));\n",
              "    fill: #FFFFFF;\n",
              "  }\n",
              "</style>\n",
              "\n",
              "    <script>\n",
              "      async function quickchart(key) {\n",
              "        const containerElement = document.querySelector('#' + key);\n",
              "        const charts = await google.colab.kernel.invokeFunction(\n",
              "            'suggestCharts', [key], {});\n",
              "      }\n",
              "    </script>\n",
              "\n",
              "      <script>\n",
              "\n",
              "function displayQuickchartButton(domScope) {\n",
              "  let quickchartButtonEl =\n",
              "    domScope.querySelector('#df-8d5b153e-7021-4288-995b-c45eb90d8bc5 button.colab-df-quickchart');\n",
              "  quickchartButtonEl.style.display =\n",
              "    google.colab.kernel.accessAllowed ? 'block' : 'none';\n",
              "}\n",
              "\n",
              "        displayQuickchartButton(document);\n",
              "      </script>\n",
              "      <style>\n",
              "    .colab-df-container {\n",
              "      display:flex;\n",
              "      flex-wrap:wrap;\n",
              "      gap: 12px;\n",
              "    }\n",
              "\n",
              "    .colab-df-convert {\n",
              "      background-color: #E8F0FE;\n",
              "      border: none;\n",
              "      border-radius: 50%;\n",
              "      cursor: pointer;\n",
              "      display: none;\n",
              "      fill: #1967D2;\n",
              "      height: 32px;\n",
              "      padding: 0 0 0 0;\n",
              "      width: 32px;\n",
              "    }\n",
              "\n",
              "    .colab-df-convert:hover {\n",
              "      background-color: #E2EBFA;\n",
              "      box-shadow: 0px 1px 2px rgba(60, 64, 67, 0.3), 0px 1px 3px 1px rgba(60, 64, 67, 0.15);\n",
              "      fill: #174EA6;\n",
              "    }\n",
              "\n",
              "    [theme=dark] .colab-df-convert {\n",
              "      background-color: #3B4455;\n",
              "      fill: #D2E3FC;\n",
              "    }\n",
              "\n",
              "    [theme=dark] .colab-df-convert:hover {\n",
              "      background-color: #434B5C;\n",
              "      box-shadow: 0px 1px 3px 1px rgba(0, 0, 0, 0.15);\n",
              "      filter: drop-shadow(0px 1px 2px rgba(0, 0, 0, 0.3));\n",
              "      fill: #FFFFFF;\n",
              "    }\n",
              "  </style>\n",
              "\n",
              "      <script>\n",
              "        const buttonEl =\n",
              "          document.querySelector('#df-eedeebe4-de1f-4956-b2f9-ad42cf383164 button.colab-df-convert');\n",
              "        buttonEl.style.display =\n",
              "          google.colab.kernel.accessAllowed ? 'block' : 'none';\n",
              "\n",
              "        async function convertToInteractive(key) {\n",
              "          const element = document.querySelector('#df-eedeebe4-de1f-4956-b2f9-ad42cf383164');\n",
              "          const dataTable =\n",
              "            await google.colab.kernel.invokeFunction('convertToInteractive',\n",
              "                                                     [key], {});\n",
              "          if (!dataTable) return;\n",
              "\n",
              "          const docLinkHtml = 'Like what you see? Visit the ' +\n",
              "            '<a target=\"_blank\" href=https://colab.research.google.com/notebooks/data_table.ipynb>data table notebook</a>'\n",
              "            + ' to learn more about interactive tables.';\n",
              "          element.innerHTML = '';\n",
              "          dataTable['output_type'] = 'display_data';\n",
              "          await google.colab.output.renderOutput(dataTable, element);\n",
              "          const docLink = document.createElement('div');\n",
              "          docLink.innerHTML = docLinkHtml;\n",
              "          element.appendChild(docLink);\n",
              "        }\n",
              "      </script>\n",
              "    </div>\n",
              "  </div>\n"
            ]
          },
          "metadata": {},
          "execution_count": 14
        }
      ]
    },
    {
      "cell_type": "code",
      "source": [
        "sns.regplot(data=wd, x='Year', y='Log')\n",
        "plt.title('Log-Linear Regression plot for Year vs. Product of Energy intensity and Carbon intensity')\n",
        "plt.xlabel('Year')\n",
        "plt.ylabel('Log of Energy intensity * Carbon intensity')"
      ],
      "metadata": {
        "colab": {
          "base_uri": "https://localhost:8080/",
          "height": 489
        },
        "id": "O6kkqt2bGFZ2",
        "outputId": "b29fa310-ba6c-4868-c246-00910760f59b"
      },
      "execution_count": null,
      "outputs": [
        {
          "output_type": "execute_result",
          "data": {
            "text/plain": [
              "Text(0, 0.5, 'Log of Energy intensity * Carbon intensity')"
            ]
          },
          "metadata": {},
          "execution_count": 15
        },
        {
          "output_type": "display_data",
          "data": {
            "text/plain": [
              "<Figure size 640x480 with 1 Axes>"
            ],
            "image/png": "[encoded data removed]"
          },
          "metadata": {}
        }
      ]
    },
    {
      "cell_type": "code",
      "source": [
        "x1 = World[1].to_numpy().reshape((-1, 1))\n",
        "x2 = Worldy[0].to_numpy().reshape((-1, 1))\n",
        "y1 = World[0].to_numpy()\n",
        "y2 = Worlde[0].to_numpy()\n",
        "y3 = Worldc[0].to_numpy()\n",
        "y4 = Worlde[0] * Worldc[0]"
      ],
      "metadata": {
        "id": "_pWojC-LxTTz"
      },
      "execution_count": null,
      "outputs": []
    },
    {
      "cell_type": "code",
      "source": [
        "model5 = LinearRegression()\n",
        "model5.fit((-1) * x2, np.log(y4))\n",
        "model5.score((-1) * x2, np.log(y4))"
      ],
      "metadata": {
        "colab": {
          "base_uri": "https://localhost:8080/"
        },
        "id": "KAbdx1AEWu5u",
        "outputId": "d474e260-dd39-4a18-a178-a31b1848be5d"
      },
      "execution_count": null,
      "outputs": [
        {
          "output_type": "execute_result",
          "data": {
            "text/plain": [
              "0.9936949302306325"
            ]
          },
          "metadata": {},
          "execution_count": 54
        }
      ]
    },
    {
      "cell_type": "code",
      "source": [
        "model5.predict(np.array([[-2050]]))"
      ],
      "metadata": {
        "colab": {
          "base_uri": "https://localhost:8080/"
        },
        "id": "tPkQZRaAClPe",
        "outputId": "8110ce9e-9138-47f2-f186-957107c8dc34"
      },
      "execution_count": null,
      "outputs": [
        {
          "output_type": "execute_result",
          "data": {
            "text/plain": [
              "array([-1.64659052])"
            ]
          },
          "metadata": {},
          "execution_count": 18
        }
      ]
    },
    {
      "cell_type": "code",
      "source": [
        "np.exp(model5.predict(np.array([[-2050]])))"
      ],
      "metadata": {
        "colab": {
          "base_uri": "https://localhost:8080/"
        },
        "id": "y5NzQsMkCUU9",
        "outputId": "c7992ce3-e7a9-4359-87f8-f93159dec1b5"
      },
      "execution_count": null,
      "outputs": [
        {
          "output_type": "execute_result",
          "data": {
            "text/plain": [
              "array([0.19270582])"
            ]
          },
          "metadata": {},
          "execution_count": 186
        }
      ]
    },
    {
      "cell_type": "code",
      "source": [
        "np.exp(-1.64659052)"
      ],
      "metadata": {
        "colab": {
          "base_uri": "https://localhost:8080/"
        },
        "id": "AYQ9DUcXVkz3",
        "outputId": "030914fd-a728-45ec-a2b1-9943bb2174b6"
      },
      "execution_count": null,
      "outputs": [
        {
          "output_type": "execute_result",
          "data": {
            "text/plain": [
              "0.19270581646014232"
            ]
          },
          "metadata": {},
          "execution_count": 19
        }
      ]
    },
    {
      "cell_type": "code",
      "source": [
        "model5.predict(np.array([[-2100]]))"
      ],
      "metadata": {
        "colab": {
          "base_uri": "https://localhost:8080/"
        },
        "id": "GspLAZ5lW9cg",
        "outputId": "7d6849a0-faad-4efa-cce4-e85a978c163b"
      },
      "execution_count": null,
      "outputs": [
        {
          "output_type": "execute_result",
          "data": {
            "text/plain": [
              "array([-2.45709196])"
            ]
          },
          "metadata": {},
          "execution_count": 20
        }
      ]
    },
    {
      "cell_type": "code",
      "source": [
        "np.exp(-2.45709196)"
      ],
      "metadata": {
        "colab": {
          "base_uri": "https://localhost:8080/"
        },
        "id": "B1uGPzK-ru6y",
        "outputId": "023a9926-d248-4dbb-92bd-4fdcd5b40546"
      },
      "execution_count": null,
      "outputs": [
        {
          "output_type": "execute_result",
          "data": {
            "text/plain": [
              "0.08568376082129367"
            ]
          },
          "metadata": {},
          "execution_count": 21
        }
      ]
    },
    {
      "cell_type": "code",
      "source": [
        "data_s1 = pd.read_csv(raw_s1)\n",
        "prod = [i for i in range(1880, 2101)]\n",
        "yprod = []\n",
        "for i in range(221):\n",
        "  a = (i + 1880) * (-1)\n",
        "  pp = model5.predict(np.array([[a]]))\n",
        "  pp2 = 0.744 * 1000000000 / np.exp(pp)\n",
        "  yprod.append(pp2)\n",
        "\n",
        "data_s1['y1'] = np.nan\n",
        "ind = 0\n",
        "for val in data_s1['ann']:\n",
        "  data_s1['y1'][ind] = val * yprod[ind]\n",
        "  ind = ind + 1"
      ],
      "metadata": {
        "colab": {
          "base_uri": "https://localhost:8080/"
        },
        "id": "6MRKmHrmXoof",
        "outputId": "310a5526-73ff-441e-ad7a-bf20252ac955"
      },
      "execution_count": null,
      "outputs": [
        {
          "output_type": "stream",
          "name": "stderr",
          "text": [
            "<ipython-input-162-fe87667d2a85>:13: SettingWithCopyWarning: \n",
            "A value is trying to be set on a copy of a slice from a DataFrame\n",
            "\n",
            "See the caveats in the documentation: https://pandas.pydata.org/pandas-docs/stable/user_guide/indexing.html#returning-a-view-versus-a-copy\n",
            "  data_s1['y1'][ind] = val * yprod[ind]\n"
          ]
        }
      ]
    },
    {
      "cell_type": "code",
      "source": [
        "data_s1['y2'] = np.nan\n",
        "ind = 0\n",
        "for val in data_s2['ann'].dropna():\n",
        "  if ind == 171:\n",
        "    break\n",
        "  data_s1['y2'][ind] = val * yprod[ind]\n",
        "  ind = ind + 1"
      ],
      "metadata": {
        "colab": {
          "base_uri": "https://localhost:8080/"
        },
        "id": "4B1KlZBRbVqk",
        "outputId": "22e73a19-79c0-40c6-b729-3d8cd717dbc3"
      },
      "execution_count": null,
      "outputs": [
        {
          "output_type": "stream",
          "name": "stderr",
          "text": [
            "<ipython-input-163-e90cc16f79ea>:6: SettingWithCopyWarning: \n",
            "A value is trying to be set on a copy of a slice from a DataFrame\n",
            "\n",
            "See the caveats in the documentation: https://pandas.pydata.org/pandas-docs/stable/user_guide/indexing.html#returning-a-view-versus-a-copy\n",
            "  data_s1['y2'][ind] = val * yprod[ind]\n"
          ]
        }
      ]
    },
    {
      "cell_type": "code",
      "source": [
        "data_s1['y3'] = np.nan\n",
        "ind = 0\n",
        "for val in data_s3['cum'].diff():\n",
        "  data_s1['y3'][ind] = val * yprod[ind]\n",
        "  ind = ind + 1"
      ],
      "metadata": {
        "colab": {
          "base_uri": "https://localhost:8080/"
        },
        "id": "49mhVzL0bdBM",
        "outputId": "3ba0852c-c848-465d-fbff-c2033c72ccd7"
      },
      "execution_count": null,
      "outputs": [
        {
          "output_type": "stream",
          "name": "stderr",
          "text": [
            "<ipython-input-164-9a071bd85684>:4: SettingWithCopyWarning: \n",
            "A value is trying to be set on a copy of a slice from a DataFrame\n",
            "\n",
            "See the caveats in the documentation: https://pandas.pydata.org/pandas-docs/stable/user_guide/indexing.html#returning-a-view-versus-a-copy\n",
            "  data_s1['y3'][ind] = val * yprod[ind]\n"
          ]
        }
      ]
    },
    {
      "cell_type": "code",
      "source": [
        "data_s1.head(152)"
      ],
      "metadata": {
        "colab": {
          "base_uri": "https://localhost:8080/",
          "height": 463
        },
        "id": "mx84Iq4GMriY",
        "outputId": "de0b042b-f122-4c24-f809-97e9b3b1b61b"
      },
      "execution_count": null,
      "outputs": [
        {
          "output_type": "execute_result",
          "data": {
            "text/plain": [
              "     cum_emissions_hat1            ann  year            y1            y2  \\\n",
              "0          1.316704e+05       0.000000  1880  0.000000e+00  0.000000e+00   \n",
              "1          1.316704e+05       0.000011  1881  2.843384e+03  2.843384e+03   \n",
              "2          1.316704e+05       0.000058  1882  1.457600e+04  1.455065e+04   \n",
              "3          1.316704e+05       0.000199  1883  5.135943e+04  5.115306e+04   \n",
              "4          1.316704e+05       0.000569  1884  1.489366e+05  1.493823e+05   \n",
              "..                  ...            ...   ...           ...           ...   \n",
              "147        4.416922e+06  110779.029600  2027  2.945896e+14  5.492032e+13   \n",
              "148        4.526667e+06  109745.039600  2028  2.966092e+14  4.984230e+13   \n",
              "149        4.635198e+06  108530.376900  2029  2.981199e+14  4.515772e+13   \n",
              "150        4.742344e+06  107146.238500  2030  2.991276e+14  4.085208e+13   \n",
              "151        4.847948e+06  105604.231400  2031  2.996407e+14  3.690762e+13   \n",
              "\n",
              "               y3  \n",
              "0             NaN  \n",
              "1    6.435026e+11  \n",
              "2    6.717635e+11  \n",
              "3    7.033526e+11  \n",
              "4    7.227023e+11  \n",
              "..            ...  \n",
              "147  1.332580e+13  \n",
              "148 -1.354357e+13  \n",
              "149 -4.113375e+13  \n",
              "150 -6.913455e+13  \n",
              "151 -9.722443e+13  \n",
              "\n",
              "[152 rows x 6 columns]"
            ],
            "text/html": [
              "\n",
              "\n",
              "  <div id=\"df-4f7692ae-10da-4896-a927-af717b40ef75\">\n",
              "    <div class=\"colab-df-container\">\n",
              "      <div>\n",
              "<style scoped>\n",
              "    .dataframe tbody tr th:only-of-type {\n",
              "        vertical-align: middle;\n",
              "    }\n",
              "\n",
              "    .dataframe tbody tr th {\n",
              "        vertical-align: top;\n",
              "    }\n",
              "\n",
              "    .dataframe thead th {\n",
              "        text-align: right;\n",
              "    }\n",
              "</style>\n",
              "<table border=\"1\" class=\"dataframe\">\n",
              "  <thead>\n",
              "    <tr style=\"text-align: right;\">\n",
              "      <th></th>\n",
              "      <th>cum_emissions_hat1</th>\n",
              "      <th>ann</th>\n",
              "      <th>year</th>\n",
              "      <th>y1</th>\n",
              "      <th>y2</th>\n",
              "      <th>y3</th>\n",
              "    </tr>\n",
              "  </thead>\n",
              "  <tbody>\n",
              "    <tr>\n",
              "      <th>0</th>\n",
              "      <td>1.316704e+05</td>\n",
              "      <td>0.000000</td>\n",
              "      <td>1880</td>\n",
              "      <td>0.000000e+00</td>\n",
              "      <td>0.000000e+00</td>\n",
              "      <td>NaN</td>\n",
              "    </tr>\n",
              "    <tr>\n",
              "      <th>1</th>\n",
              "      <td>1.316704e+05</td>\n",
              "      <td>0.000011</td>\n",
              "      <td>1881</td>\n",
              "      <td>2.843384e+03</td>\n",
              "      <td>2.843384e+03</td>\n",
              "      <td>6.435026e+11</td>\n",
              "    </tr>\n",
              "    <tr>\n",
              "      <th>2</th>\n",
              "      <td>1.316704e+05</td>\n",
              "      <td>0.000058</td>\n",
              "      <td>1882</td>\n",
              "      <td>1.457600e+04</td>\n",
              "      <td>1.455065e+04</td>\n",
              "      <td>6.717635e+11</td>\n",
              "    </tr>\n",
              "    <tr>\n",
              "      <th>3</th>\n",
              "      <td>1.316704e+05</td>\n",
              "      <td>0.000199</td>\n",
              "      <td>1883</td>\n",
              "      <td>5.135943e+04</td>\n",
              "      <td>5.115306e+04</td>\n",
              "      <td>7.033526e+11</td>\n",
              "    </tr>\n",
              "    <tr>\n",
              "      <th>4</th>\n",
              "      <td>1.316704e+05</td>\n",
              "      <td>0.000569</td>\n",
              "      <td>1884</td>\n",
              "      <td>1.489366e+05</td>\n",
              "      <td>1.493823e+05</td>\n",
              "      <td>7.227023e+11</td>\n",
              "    </tr>\n",
              "    <tr>\n",
              "      <th>...</th>\n",
              "      <td>...</td>\n",
              "      <td>...</td>\n",
              "      <td>...</td>\n",
              "      <td>...</td>\n",
              "      <td>...</td>\n",
              "      <td>...</td>\n",
              "    </tr>\n",
              "    <tr>\n",
              "      <th>147</th>\n",
              "      <td>4.416922e+06</td>\n",
              "      <td>110779.029600</td>\n",
              "      <td>2027</td>\n",
              "      <td>2.945896e+14</td>\n",
              "      <td>5.492032e+13</td>\n",
              "      <td>1.332580e+13</td>\n",
              "    </tr>\n",
              "    <tr>\n",
              "      <th>148</th>\n",
              "      <td>4.526667e+06</td>\n",
              "      <td>109745.039600</td>\n",
              "      <td>2028</td>\n",
              "      <td>2.966092e+14</td>\n",
              "      <td>4.984230e+13</td>\n",
              "      <td>-1.354357e+13</td>\n",
              "    </tr>\n",
              "    <tr>\n",
              "      <th>149</th>\n",
              "      <td>4.635198e+06</td>\n",
              "      <td>108530.376900</td>\n",
              "      <td>2029</td>\n",
              "      <td>2.981199e+14</td>\n",
              "      <td>4.515772e+13</td>\n",
              "      <td>-4.113375e+13</td>\n",
              "    </tr>\n",
              "    <tr>\n",
              "      <th>150</th>\n",
              "      <td>4.742344e+06</td>\n",
              "      <td>107146.238500</td>\n",
              "      <td>2030</td>\n",
              "      <td>2.991276e+14</td>\n",
              "      <td>4.085208e+13</td>\n",
              "      <td>-6.913455e+13</td>\n",
              "    </tr>\n",
              "    <tr>\n",
              "      <th>151</th>\n",
              "      <td>4.847948e+06</td>\n",
              "      <td>105604.231400</td>\n",
              "      <td>2031</td>\n",
              "      <td>2.996407e+14</td>\n",
              "      <td>3.690762e+13</td>\n",
              "      <td>-9.722443e+13</td>\n",
              "    </tr>\n",
              "  </tbody>\n",
              "</table>\n",
              "<p>152 rows × 6 columns</p>\n",
              "</div>\n",
              "      <button class=\"colab-df-convert\" onclick=\"convertToInteractive('df-4f7692ae-10da-4896-a927-af717b40ef75')\"\n",
              "              title=\"Convert this dataframe to an interactive table.\"\n",
              "              style=\"display:none;\">\n",
              "\n",
              "  <svg xmlns=\"http://www.w3.org/2000/svg\" height=\"24px\"viewBox=\"0 0 24 24\"\n",
              "       width=\"24px\">\n",
              "    <path d=\"M0 0h24v24H0V0z\" fill=\"none\"/>\n",
              "    <path d=\"M18.56 5.44l.94 2.06.94-2.06 2.06-.94-2.06-.94-.94-2.06-.94 2.06-2.06.94zm-11 1L8.5 8.5l.94-2.06 2.06-.94-2.06-.94L8.5 2.5l-.94 2.06-2.06.94zm10 10l.94 2.06.94-2.06 2.06-.94-2.06-.94-.94-2.06-.94 2.06-2.06.94z\"/><path d=\"M17.41 7.96l-1.37-1.37c-.4-.4-.92-.59-1.43-.59-.52 0-1.04.2-1.43.59L10.3 9.45l-7.72 7.72c-.78.78-.78 2.05 0 2.83L4 21.41c.39.39.9.59 1.41.59.51 0 1.02-.2 1.41-.59l7.78-7.78 2.81-2.81c.8-.78.8-2.07 0-2.86zM5.41 20L4 18.59l7.72-7.72 1.47 1.35L5.41 20z\"/>\n",
              "  </svg>\n",
              "      </button>\n",
              "\n",
              "\n",
              "\n",
              "    <div id=\"df-b9bdd01b-4c29-45e4-b9d5-3295c99aef28\">\n",
              "      <button class=\"colab-df-quickchart\" onclick=\"quickchart('df-b9bdd01b-4c29-45e4-b9d5-3295c99aef28')\"\n",
              "              title=\"Suggest charts.\"\n",
              "              style=\"display:none;\">\n",
              "\n",
              "<svg xmlns=\"http://www.w3.org/2000/svg\" height=\"24px\"viewBox=\"0 0 24 24\"\n",
              "     width=\"24px\">\n",
              "    <g>\n",
              "        <path d=\"M19 3H5c-1.1 0-2 .9-2 2v14c0 1.1.9 2 2 2h14c1.1 0 2-.9 2-2V5c0-1.1-.9-2-2-2zM9 17H7v-7h2v7zm4 0h-2V7h2v10zm4 0h-2v-4h2v4z\"/>\n",
              "    </g>\n",
              "</svg>\n",
              "      </button>\n",
              "    </div>\n",
              "\n",
              "<style>\n",
              "  .colab-df-quickchart {\n",
              "    background-color: #E8F0FE;\n",
              "    border: none;\n",
              "    border-radius: 50%;\n",
              "    cursor: pointer;\n",
              "    display: none;\n",
              "    fill: #1967D2;\n",
              "    height: 32px;\n",
              "    padding: 0 0 0 0;\n",
              "    width: 32px;\n",
              "  }\n",
              "\n",
              "  .colab-df-quickchart:hover {\n",
              "    background-color: #E2EBFA;\n",
              "    box-shadow: 0px 1px 2px rgba(60, 64, 67, 0.3), 0px 1px 3px 1px rgba(60, 64, 67, 0.15);\n",
              "    fill: #174EA6;\n",
              "  }\n",
              "\n",
              "  [theme=dark] .colab-df-quickchart {\n",
              "    background-color: #3B4455;\n",
              "    fill: #D2E3FC;\n",
              "  }\n",
              "\n",
              "  [theme=dark] .colab-df-quickchart:hover {\n",
              "    background-color: #434B5C;\n",
              "    box-shadow: 0px 1px 3px 1px rgba(0, 0, 0, 0.15);\n",
              "    filter: drop-shadow(0px 1px 2px rgba(0, 0, 0, 0.3));\n",
              "    fill: #FFFFFF;\n",
              "  }\n",
              "</style>\n",
              "\n",
              "    <script>\n",
              "      async function quickchart(key) {\n",
              "        const containerElement = document.querySelector('#' + key);\n",
              "        const charts = await google.colab.kernel.invokeFunction(\n",
              "            'suggestCharts', [key], {});\n",
              "      }\n",
              "    </script>\n",
              "\n",
              "      <script>\n",
              "\n",
              "function displayQuickchartButton(domScope) {\n",
              "  let quickchartButtonEl =\n",
              "    domScope.querySelector('#df-b9bdd01b-4c29-45e4-b9d5-3295c99aef28 button.colab-df-quickchart');\n",
              "  quickchartButtonEl.style.display =\n",
              "    google.colab.kernel.accessAllowed ? 'block' : 'none';\n",
              "}\n",
              "\n",
              "        displayQuickchartButton(document);\n",
              "      </script>\n",
              "      <style>\n",
              "    .colab-df-container {\n",
              "      display:flex;\n",
              "      flex-wrap:wrap;\n",
              "      gap: 12px;\n",
              "    }\n",
              "\n",
              "    .colab-df-convert {\n",
              "      background-color: #E8F0FE;\n",
              "      border: none;\n",
              "      border-radius: 50%;\n",
              "      cursor: pointer;\n",
              "      display: none;\n",
              "      fill: #1967D2;\n",
              "      height: 32px;\n",
              "      padding: 0 0 0 0;\n",
              "      width: 32px;\n",
              "    }\n",
              "\n",
              "    .colab-df-convert:hover {\n",
              "      background-color: #E2EBFA;\n",
              "      box-shadow: 0px 1px 2px rgba(60, 64, 67, 0.3), 0px 1px 3px 1px rgba(60, 64, 67, 0.15);\n",
              "      fill: #174EA6;\n",
              "    }\n",
              "\n",
              "    [theme=dark] .colab-df-convert {\n",
              "      background-color: #3B4455;\n",
              "      fill: #D2E3FC;\n",
              "    }\n",
              "\n",
              "    [theme=dark] .colab-df-convert:hover {\n",
              "      background-color: #434B5C;\n",
              "      box-shadow: 0px 1px 3px 1px rgba(0, 0, 0, 0.15);\n",
              "      filter: drop-shadow(0px 1px 2px rgba(0, 0, 0, 0.3));\n",
              "      fill: #FFFFFF;\n",
              "    }\n",
              "  </style>\n",
              "\n",
              "      <script>\n",
              "        const buttonEl =\n",
              "          document.querySelector('#df-4f7692ae-10da-4896-a927-af717b40ef75 button.colab-df-convert');\n",
              "        buttonEl.style.display =\n",
              "          google.colab.kernel.accessAllowed ? 'block' : 'none';\n",
              "\n",
              "        async function convertToInteractive(key) {\n",
              "          const element = document.querySelector('#df-4f7692ae-10da-4896-a927-af717b40ef75');\n",
              "          const dataTable =\n",
              "            await google.colab.kernel.invokeFunction('convertToInteractive',\n",
              "                                                     [key], {});\n",
              "          if (!dataTable) return;\n",
              "\n",
              "          const docLinkHtml = 'Like what you see? Visit the ' +\n",
              "            '<a target=\"_blank\" href=https://colab.research.google.com/notebooks/data_table.ipynb>data table notebook</a>'\n",
              "            + ' to learn more about interactive tables.';\n",
              "          element.innerHTML = '';\n",
              "          dataTable['output_type'] = 'display_data';\n",
              "          await google.colab.output.renderOutput(dataTable, element);\n",
              "          const docLink = document.createElement('div');\n",
              "          docLink.innerHTML = docLinkHtml;\n",
              "          element.appendChild(docLink);\n",
              "        }\n",
              "      </script>\n",
              "    </div>\n",
              "  </div>\n"
            ]
          },
          "metadata": {},
          "execution_count": 197
        }
      ]
    },
    {
      "cell_type": "code",
      "source": [
        "df = data_s1.melt('year', var_name='y', value_name='val')\n",
        "df = df.drop(df[df.y == 'cum_emissions_hat1'].index)\n",
        "df = df.drop(df[df.y=='ann'].index)"
      ],
      "metadata": {
        "id": "uh_1cfV6bIKk"
      },
      "execution_count": null,
      "outputs": []
    },
    {
      "cell_type": "code",
      "source": [
        "ax = sns.lineplot(data=df, x='year', y='val', hue='y', palette = ['red', 'blue', 'green'], alpha = 0.7)\n",
        "ax.set(xlabel = 'Years',\n",
        "       ylabel = 'GDP in (million $)',\n",
        "       title = 'Predicted GDP in each scenario')\n",
        "hands, labs = ax.get_legend_handles_labels()\n",
        "plt.legend(handles = hands, labels=[\"Scenario 1\", \"Scenario 2\", \"Scenario 3\"])\n",
        "plt.show()"
      ],
      "metadata": {
        "colab": {
          "base_uri": "https://localhost:8080/",
          "height": 472
        },
        "id": "zuRZ8dH7bg7c",
        "outputId": "a9181af6-40ab-4057-ee29-81bf332b55ee"
      },
      "execution_count": null,
      "outputs": [
        {
          "output_type": "display_data",
          "data": {
            "text/plain": [
              "<Figure size 640x480 with 1 Axes>"
            ],
            "image/png": "[encoded data removed]"
          },
          "metadata": {}
        }
      ]
    },
    {
      "cell_type": "code",
      "source": [
        "dfa = df[df['year'] > 2020]"
      ],
      "metadata": {
        "id": "zpfqxscWttBG"
      },
      "execution_count": null,
      "outputs": []
    },
    {
      "cell_type": "code",
      "source": [
        "raw_gdp = 'https://raw.githubusercontent.com/JulianSKYOO/MATH3041/main/world-gdp-gross-domestic-product.csv'\n",
        "data_gdp = pd.read_csv(raw_gdp)"
      ],
      "metadata": {
        "id": "0kx0Y4Q3fMPr"
      },
      "execution_count": null,
      "outputs": []
    },
    {
      "cell_type": "code",
      "source": [
        "dat = data_s1[data_s1['year'] > 1959]\n",
        "dat = dat.reset_index(drop=True)"
      ],
      "metadata": {
        "id": "PaVWsUvefyxv"
      },
      "execution_count": null,
      "outputs": []
    },
    {
      "cell_type": "code",
      "source": [
        "dat.loc[dat['year'] < 2023, 'y1'] = np.nan\n",
        "dat.loc[dat['year'] < 2023, 'y2'] = np.nan\n",
        "dat.loc[dat['year'] < 2023, 'y3'] = np.nan"
      ],
      "metadata": {
        "id": "5X-PRVwFhCgt"
      },
      "execution_count": null,
      "outputs": []
    },
    {
      "cell_type": "code",
      "source": [
        "data_gdp.tail()"
      ],
      "metadata": {
        "colab": {
          "base_uri": "https://localhost:8080/",
          "height": 204
        },
        "id": "xubBQsu5cCpj",
        "outputId": "b998594e-e791-4779-d127-0c0cae271af9"
      },
      "execution_count": null,
      "outputs": [
        {
          "output_type": "execute_result",
          "data": {
            "text/plain": [
              "    Year   GDP ( Billions of US $)   Per Capita (US $)   Annual % Change\n",
              "58  2018               86456.88825          11284.1833           3.28550\n",
              "59  2019               87645.25564          11319.7541           2.59130\n",
              "60  2020               85105.60361          10881.7037          -3.11540\n",
              "61  2021               96513.07736          12234.7968           5.86980\n",
              "62  2022              100562.01110                 NaN           1.01952"
            ],
            "text/html": [
              "\n",
              "\n",
              "  <div id=\"df-a5768d3c-5b91-4ed7-940b-450edf184fd1\">\n",
              "    <div class=\"colab-df-container\">\n",
              "      <div>\n",
              "<style scoped>\n",
              "    .dataframe tbody tr th:only-of-type {\n",
              "        vertical-align: middle;\n",
              "    }\n",
              "\n",
              "    .dataframe tbody tr th {\n",
              "        vertical-align: top;\n",
              "    }\n",
              "\n",
              "    .dataframe thead th {\n",
              "        text-align: right;\n",
              "    }\n",
              "</style>\n",
              "<table border=\"1\" class=\"dataframe\">\n",
              "  <thead>\n",
              "    <tr style=\"text-align: right;\">\n",
              "      <th></th>\n",
              "      <th>Year</th>\n",
              "      <th>GDP ( Billions of US $)</th>\n",
              "      <th>Per Capita (US $)</th>\n",
              "      <th>Annual % Change</th>\n",
              "    </tr>\n",
              "  </thead>\n",
              "  <tbody>\n",
              "    <tr>\n",
              "      <th>58</th>\n",
              "      <td>2018</td>\n",
              "      <td>86456.88825</td>\n",
              "      <td>11284.1833</td>\n",
              "      <td>3.28550</td>\n",
              "    </tr>\n",
              "    <tr>\n",
              "      <th>59</th>\n",
              "      <td>2019</td>\n",
              "      <td>87645.25564</td>\n",
              "      <td>11319.7541</td>\n",
              "      <td>2.59130</td>\n",
              "    </tr>\n",
              "    <tr>\n",
              "      <th>60</th>\n",
              "      <td>2020</td>\n",
              "      <td>85105.60361</td>\n",
              "      <td>10881.7037</td>\n",
              "      <td>-3.11540</td>\n",
              "    </tr>\n",
              "    <tr>\n",
              "      <th>61</th>\n",
              "      <td>2021</td>\n",
              "      <td>96513.07736</td>\n",
              "      <td>12234.7968</td>\n",
              "      <td>5.86980</td>\n",
              "    </tr>\n",
              "    <tr>\n",
              "      <th>62</th>\n",
              "      <td>2022</td>\n",
              "      <td>100562.01110</td>\n",
              "      <td>NaN</td>\n",
              "      <td>1.01952</td>\n",
              "    </tr>\n",
              "  </tbody>\n",
              "</table>\n",
              "</div>\n",
              "      <button class=\"colab-df-convert\" onclick=\"convertToInteractive('df-a5768d3c-5b91-4ed7-940b-450edf184fd1')\"\n",
              "              title=\"Convert this dataframe to an interactive table.\"\n",
              "              style=\"display:none;\">\n",
              "\n",
              "  <svg xmlns=\"http://www.w3.org/2000/svg\" height=\"24px\"viewBox=\"0 0 24 24\"\n",
              "       width=\"24px\">\n",
              "    <path d=\"M0 0h24v24H0V0z\" fill=\"none\"/>\n",
              "    <path d=\"M18.56 5.44l.94 2.06.94-2.06 2.06-.94-2.06-.94-.94-2.06-.94 2.06-2.06.94zm-11 1L8.5 8.5l.94-2.06 2.06-.94-2.06-.94L8.5 2.5l-.94 2.06-2.06.94zm10 10l.94 2.06.94-2.06 2.06-.94-2.06-.94-.94-2.06-.94 2.06-2.06.94z\"/><path d=\"M17.41 7.96l-1.37-1.37c-.4-.4-.92-.59-1.43-.59-.52 0-1.04.2-1.43.59L10.3 9.45l-7.72 7.72c-.78.78-.78 2.05 0 2.83L4 21.41c.39.39.9.59 1.41.59.51 0 1.02-.2 1.41-.59l7.78-7.78 2.81-2.81c.8-.78.8-2.07 0-2.86zM5.41 20L4 18.59l7.72-7.72 1.47 1.35L5.41 20z\"/>\n",
              "  </svg>\n",
              "      </button>\n",
              "\n",
              "\n",
              "\n",
              "    <div id=\"df-0228961a-ed59-4d54-9b62-9558ca953afd\">\n",
              "      <button class=\"colab-df-quickchart\" onclick=\"quickchart('df-0228961a-ed59-4d54-9b62-9558ca953afd')\"\n",
              "              title=\"Suggest charts.\"\n",
              "              style=\"display:none;\">\n",
              "\n",
              "<svg xmlns=\"http://www.w3.org/2000/svg\" height=\"24px\"viewBox=\"0 0 24 24\"\n",
              "     width=\"24px\">\n",
              "    <g>\n",
              "        <path d=\"M19 3H5c-1.1 0-2 .9-2 2v14c0 1.1.9 2 2 2h14c1.1 0 2-.9 2-2V5c0-1.1-.9-2-2-2zM9 17H7v-7h2v7zm4 0h-2V7h2v10zm4 0h-2v-4h2v4z\"/>\n",
              "    </g>\n",
              "</svg>\n",
              "      </button>\n",
              "    </div>\n",
              "\n",
              "<style>\n",
              "  .colab-df-quickchart {\n",
              "    background-color: #E8F0FE;\n",
              "    border: none;\n",
              "    border-radius: 50%;\n",
              "    cursor: pointer;\n",
              "    display: none;\n",
              "    fill: #1967D2;\n",
              "    height: 32px;\n",
              "    padding: 0 0 0 0;\n",
              "    width: 32px;\n",
              "  }\n",
              "\n",
              "  .colab-df-quickchart:hover {\n",
              "    background-color: #E2EBFA;\n",
              "    box-shadow: 0px 1px 2px rgba(60, 64, 67, 0.3), 0px 1px 3px 1px rgba(60, 64, 67, 0.15);\n",
              "    fill: #174EA6;\n",
              "  }\n",
              "\n",
              "  [theme=dark] .colab-df-quickchart {\n",
              "    background-color: #3B4455;\n",
              "    fill: #D2E3FC;\n",
              "  }\n",
              "\n",
              "  [theme=dark] .colab-df-quickchart:hover {\n",
              "    background-color: #434B5C;\n",
              "    box-shadow: 0px 1px 3px 1px rgba(0, 0, 0, 0.15);\n",
              "    filter: drop-shadow(0px 1px 2px rgba(0, 0, 0, 0.3));\n",
              "    fill: #FFFFFF;\n",
              "  }\n",
              "</style>\n",
              "\n",
              "    <script>\n",
              "      async function quickchart(key) {\n",
              "        const containerElement = document.querySelector('#' + key);\n",
              "        const charts = await google.colab.kernel.invokeFunction(\n",
              "            'suggestCharts', [key], {});\n",
              "      }\n",
              "    </script>\n",
              "\n",
              "      <script>\n",
              "\n",
              "function displayQuickchartButton(domScope) {\n",
              "  let quickchartButtonEl =\n",
              "    domScope.querySelector('#df-0228961a-ed59-4d54-9b62-9558ca953afd button.colab-df-quickchart');\n",
              "  quickchartButtonEl.style.display =\n",
              "    google.colab.kernel.accessAllowed ? 'block' : 'none';\n",
              "}\n",
              "\n",
              "        displayQuickchartButton(document);\n",
              "      </script>\n",
              "      <style>\n",
              "    .colab-df-container {\n",
              "      display:flex;\n",
              "      flex-wrap:wrap;\n",
              "      gap: 12px;\n",
              "    }\n",
              "\n",
              "    .colab-df-convert {\n",
              "      background-color: #E8F0FE;\n",
              "      border: none;\n",
              "      border-radius: 50%;\n",
              "      cursor: pointer;\n",
              "      display: none;\n",
              "      fill: #1967D2;\n",
              "      height: 32px;\n",
              "      padding: 0 0 0 0;\n",
              "      width: 32px;\n",
              "    }\n",
              "\n",
              "    .colab-df-convert:hover {\n",
              "      background-color: #E2EBFA;\n",
              "      box-shadow: 0px 1px 2px rgba(60, 64, 67, 0.3), 0px 1px 3px 1px rgba(60, 64, 67, 0.15);\n",
              "      fill: #174EA6;\n",
              "    }\n",
              "\n",
              "    [theme=dark] .colab-df-convert {\n",
              "      background-color: #3B4455;\n",
              "      fill: #D2E3FC;\n",
              "    }\n",
              "\n",
              "    [theme=dark] .colab-df-convert:hover {\n",
              "      background-color: #434B5C;\n",
              "      box-shadow: 0px 1px 3px 1px rgba(0, 0, 0, 0.15);\n",
              "      filter: drop-shadow(0px 1px 2px rgba(0, 0, 0, 0.3));\n",
              "      fill: #FFFFFF;\n",
              "    }\n",
              "  </style>\n",
              "\n",
              "      <script>\n",
              "        const buttonEl =\n",
              "          document.querySelector('#df-a5768d3c-5b91-4ed7-940b-450edf184fd1 button.colab-df-convert');\n",
              "        buttonEl.style.display =\n",
              "          google.colab.kernel.accessAllowed ? 'block' : 'none';\n",
              "\n",
              "        async function convertToInteractive(key) {\n",
              "          const element = document.querySelector('#df-a5768d3c-5b91-4ed7-940b-450edf184fd1');\n",
              "          const dataTable =\n",
              "            await google.colab.kernel.invokeFunction('convertToInteractive',\n",
              "                                                     [key], {});\n",
              "          if (!dataTable) return;\n",
              "\n",
              "          const docLinkHtml = 'Like what you see? Visit the ' +\n",
              "            '<a target=\"_blank\" href=https://colab.research.google.com/notebooks/data_table.ipynb>data table notebook</a>'\n",
              "            + ' to learn more about interactive tables.';\n",
              "          element.innerHTML = '';\n",
              "          dataTable['output_type'] = 'display_data';\n",
              "          await google.colab.output.renderOutput(dataTable, element);\n",
              "          const docLink = document.createElement('div');\n",
              "          docLink.innerHTML = docLinkHtml;\n",
              "          element.appendChild(docLink);\n",
              "        }\n",
              "      </script>\n",
              "    </div>\n",
              "  </div>\n"
            ]
          },
          "metadata": {},
          "execution_count": 198
        }
      ]
    },
    {
      "cell_type": "code",
      "source": [
        "dat['y4'] = np.nan\n",
        "ind = 0\n",
        "for val in data_gdp[' GDP ( Billions of US $)'].dropna():\n",
        "  if ind == 63:\n",
        "    break\n",
        "  dat['y4'].loc[ind] = val * 1000000000\n",
        "  ind = ind + 1"
      ],
      "metadata": {
        "colab": {
          "base_uri": "https://localhost:8080/"
        },
        "id": "4-ZgLLOqlPpR",
        "outputId": "38e74636-a2d7-4bfa-d8c2-d84503dfe12d"
      },
      "execution_count": null,
      "outputs": [
        {
          "output_type": "stream",
          "name": "stderr",
          "text": [
            "<ipython-input-175-c0112fc256dc>:6: SettingWithCopyWarning: \n",
            "A value is trying to be set on a copy of a slice from a DataFrame\n",
            "\n",
            "See the caveats in the documentation: https://pandas.pydata.org/pandas-docs/stable/user_guide/indexing.html#returning-a-view-versus-a-copy\n",
            "  dat['y4'].loc[ind] = val * 1000000000\n"
          ]
        }
      ]
    },
    {
      "cell_type": "code",
      "source": [
        "dfall = dat.melt('year', var_name='y', value_name='val')\n",
        "dfall = dfall.drop(dfall[dfall.y == 'cum_emissions_hat1'].index)\n",
        "dfall = dfall.drop(dfall[dfall.y=='ann'].index)"
      ],
      "metadata": {
        "id": "EKOeKcyFj5jx"
      },
      "execution_count": null,
      "outputs": []
    },
    {
      "cell_type": "code",
      "source": [
        "ax = sns.lineplot(data=dfall, x='year', y='val', hue='y', palette = 'bright', alpha = 0.7)\n",
        "ax.set(xlabel = 'Years',\n",
        "       ylabel = 'GDP in $',\n",
        "       title = 'World GDP in each scenario')\n",
        "hands, labs = ax.get_legend_handles_labels()\n",
        "plt.legend(handles = hands, labels=[\"Scenario 1\", \"Scenario 2\", \"Scenario 3\", \"Historical GDP\"])\n",
        "plt.show()"
      ],
      "metadata": {
        "colab": {
          "base_uri": "https://localhost:8080/",
          "height": 472
        },
        "id": "Xlv_MDr6t2Xs",
        "outputId": "cb572653-8101-4900-805a-57f51d246d4e"
      },
      "execution_count": null,
      "outputs": [
        {
          "output_type": "display_data",
          "data": {
            "text/plain": [
              "<Figure size 640x480 with 1 Axes>"
            ],
            "image/png": "[encoded data removed]"
          },
          "metadata": {}
        }
      ]
    },
    {
      "cell_type": "code",
      "source": [
        "dat"
      ],
      "metadata": {
        "colab": {
          "base_uri": "https://localhost:8080/",
          "height": 463
        },
        "id": "RmowG6OvfGJR",
        "outputId": "820b2f70-27ac-4272-e5d4-34fe6537b5e1"
      },
      "execution_count": null,
      "outputs": [
        {
          "output_type": "execute_result",
          "data": {
            "text/plain": [
              "     cum_emissions_hat1          ann  year            y1  y2            y3  \\\n",
              "0          7.911110e+05   262.892524  1960           NaN NaN           NaN   \n",
              "1          7.916399e+05   528.941376  1961           NaN NaN           NaN   \n",
              "2          7.925338e+05   893.862028  1962           NaN NaN           NaN   \n",
              "3          7.938940e+05  1360.198683  1963           NaN NaN           NaN   \n",
              "4          7.958240e+05  1929.993563  1964           NaN NaN           NaN   \n",
              "..                  ...          ...   ...           ...  ..           ...   \n",
              "136        7.346184e+06    10.064859  2096  8.190726e+10 NaN -5.868963e+11   \n",
              "137        7.346254e+06    70.459429  2097  5.827654e+11 NaN -4.622510e+11   \n",
              "138        7.346445e+06   191.243152  2098  1.607609e+12 NaN -3.625837e+11   \n",
              "139        7.346818e+06   372.419640  2099  3.181757e+12 NaN -2.832409e+11   \n",
              "140        7.347432e+06   613.992503  2100  5.331354e+12 NaN -2.203543e+11   \n",
              "\n",
              "               y4  \n",
              "0    1.392277e+12  \n",
              "1    1.448625e+12  \n",
              "2    1.550548e+12  \n",
              "3    1.671614e+12  \n",
              "4    1.830292e+12  \n",
              "..            ...  \n",
              "136           NaN  \n",
              "137           NaN  \n",
              "138           NaN  \n",
              "139           NaN  \n",
              "140           NaN  \n",
              "\n",
              "[141 rows x 7 columns]"
            ],
            "text/html": [
              "\n",
              "\n",
              "  <div id=\"df-2c9a39bb-af85-4434-965d-56224c3cdcf5\">\n",
              "    <div class=\"colab-df-container\">\n",
              "      <div>\n",
              "<style scoped>\n",
              "    .dataframe tbody tr th:only-of-type {\n",
              "        vertical-align: middle;\n",
              "    }\n",
              "\n",
              "    .dataframe tbody tr th {\n",
              "        vertical-align: top;\n",
              "    }\n",
              "\n",
              "    .dataframe thead th {\n",
              "        text-align: right;\n",
              "    }\n",
              "</style>\n",
              "<table border=\"1\" class=\"dataframe\">\n",
              "  <thead>\n",
              "    <tr style=\"text-align: right;\">\n",
              "      <th></th>\n",
              "      <th>cum_emissions_hat1</th>\n",
              "      <th>ann</th>\n",
              "      <th>year</th>\n",
              "      <th>y1</th>\n",
              "      <th>y2</th>\n",
              "      <th>y3</th>\n",
              "      <th>y4</th>\n",
              "    </tr>\n",
              "  </thead>\n",
              "  <tbody>\n",
              "    <tr>\n",
              "      <th>0</th>\n",
              "      <td>7.911110e+05</td>\n",
              "      <td>262.892524</td>\n",
              "      <td>1960</td>\n",
              "      <td>NaN</td>\n",
              "      <td>NaN</td>\n",
              "      <td>NaN</td>\n",
              "      <td>1.392277e+12</td>\n",
              "    </tr>\n",
              "    <tr>\n",
              "      <th>1</th>\n",
              "      <td>7.916399e+05</td>\n",
              "      <td>528.941376</td>\n",
              "      <td>1961</td>\n",
              "      <td>NaN</td>\n",
              "      <td>NaN</td>\n",
              "      <td>NaN</td>\n",
              "      <td>1.448625e+12</td>\n",
              "    </tr>\n",
              "    <tr>\n",
              "      <th>2</th>\n",
              "      <td>7.925338e+05</td>\n",
              "      <td>893.862028</td>\n",
              "      <td>1962</td>\n",
              "      <td>NaN</td>\n",
              "      <td>NaN</td>\n",
              "      <td>NaN</td>\n",
              "      <td>1.550548e+12</td>\n",
              "    </tr>\n",
              "    <tr>\n",
              "      <th>3</th>\n",
              "      <td>7.938940e+05</td>\n",
              "      <td>1360.198683</td>\n",
              "      <td>1963</td>\n",
              "      <td>NaN</td>\n",
              "      <td>NaN</td>\n",
              "      <td>NaN</td>\n",
              "      <td>1.671614e+12</td>\n",
              "    </tr>\n",
              "    <tr>\n",
              "      <th>4</th>\n",
              "      <td>7.958240e+05</td>\n",
              "      <td>1929.993563</td>\n",
              "      <td>1964</td>\n",
              "      <td>NaN</td>\n",
              "      <td>NaN</td>\n",
              "      <td>NaN</td>\n",
              "      <td>1.830292e+12</td>\n",
              "    </tr>\n",
              "    <tr>\n",
              "      <th>...</th>\n",
              "      <td>...</td>\n",
              "      <td>...</td>\n",
              "      <td>...</td>\n",
              "      <td>...</td>\n",
              "      <td>...</td>\n",
              "      <td>...</td>\n",
              "      <td>...</td>\n",
              "    </tr>\n",
              "    <tr>\n",
              "      <th>136</th>\n",
              "      <td>7.346184e+06</td>\n",
              "      <td>10.064859</td>\n",
              "      <td>2096</td>\n",
              "      <td>8.190726e+10</td>\n",
              "      <td>NaN</td>\n",
              "      <td>-5.868963e+11</td>\n",
              "      <td>NaN</td>\n",
              "    </tr>\n",
              "    <tr>\n",
              "      <th>137</th>\n",
              "      <td>7.346254e+06</td>\n",
              "      <td>70.459429</td>\n",
              "      <td>2097</td>\n",
              "      <td>5.827654e+11</td>\n",
              "      <td>NaN</td>\n",
              "      <td>-4.622510e+11</td>\n",
              "      <td>NaN</td>\n",
              "    </tr>\n",
              "    <tr>\n",
              "      <th>138</th>\n",
              "      <td>7.346445e+06</td>\n",
              "      <td>191.243152</td>\n",
              "      <td>2098</td>\n",
              "      <td>1.607609e+12</td>\n",
              "      <td>NaN</td>\n",
              "      <td>-3.625837e+11</td>\n",
              "      <td>NaN</td>\n",
              "    </tr>\n",
              "    <tr>\n",
              "      <th>139</th>\n",
              "      <td>7.346818e+06</td>\n",
              "      <td>372.419640</td>\n",
              "      <td>2099</td>\n",
              "      <td>3.181757e+12</td>\n",
              "      <td>NaN</td>\n",
              "      <td>-2.832409e+11</td>\n",
              "      <td>NaN</td>\n",
              "    </tr>\n",
              "    <tr>\n",
              "      <th>140</th>\n",
              "      <td>7.347432e+06</td>\n",
              "      <td>613.992503</td>\n",
              "      <td>2100</td>\n",
              "      <td>5.331354e+12</td>\n",
              "      <td>NaN</td>\n",
              "      <td>-2.203543e+11</td>\n",
              "      <td>NaN</td>\n",
              "    </tr>\n",
              "  </tbody>\n",
              "</table>\n",
              "<p>141 rows × 7 columns</p>\n",
              "</div>\n",
              "      <button class=\"colab-df-convert\" onclick=\"convertToInteractive('df-2c9a39bb-af85-4434-965d-56224c3cdcf5')\"\n",
              "              title=\"Convert this dataframe to an interactive table.\"\n",
              "              style=\"display:none;\">\n",
              "\n",
              "  <svg xmlns=\"http://www.w3.org/2000/svg\" height=\"24px\"viewBox=\"0 0 24 24\"\n",
              "       width=\"24px\">\n",
              "    <path d=\"M0 0h24v24H0V0z\" fill=\"none\"/>\n",
              "    <path d=\"M18.56 5.44l.94 2.06.94-2.06 2.06-.94-2.06-.94-.94-2.06-.94 2.06-2.06.94zm-11 1L8.5 8.5l.94-2.06 2.06-.94-2.06-.94L8.5 2.5l-.94 2.06-2.06.94zm10 10l.94 2.06.94-2.06 2.06-.94-2.06-.94-.94-2.06-.94 2.06-2.06.94z\"/><path d=\"M17.41 7.96l-1.37-1.37c-.4-.4-.92-.59-1.43-.59-.52 0-1.04.2-1.43.59L10.3 9.45l-7.72 7.72c-.78.78-.78 2.05 0 2.83L4 21.41c.39.39.9.59 1.41.59.51 0 1.02-.2 1.41-.59l7.78-7.78 2.81-2.81c.8-.78.8-2.07 0-2.86zM5.41 20L4 18.59l7.72-7.72 1.47 1.35L5.41 20z\"/>\n",
              "  </svg>\n",
              "      </button>\n",
              "\n",
              "\n",
              "\n",
              "    <div id=\"df-ad4490b2-fc87-4fa3-9102-745fa480e31a\">\n",
              "      <button class=\"colab-df-quickchart\" onclick=\"quickchart('df-ad4490b2-fc87-4fa3-9102-745fa480e31a')\"\n",
              "              title=\"Suggest charts.\"\n",
              "              style=\"display:none;\">\n",
              "\n",
              "<svg xmlns=\"http://www.w3.org/2000/svg\" height=\"24px\"viewBox=\"0 0 24 24\"\n",
              "     width=\"24px\">\n",
              "    <g>\n",
              "        <path d=\"M19 3H5c-1.1 0-2 .9-2 2v14c0 1.1.9 2 2 2h14c1.1 0 2-.9 2-2V5c0-1.1-.9-2-2-2zM9 17H7v-7h2v7zm4 0h-2V7h2v10zm4 0h-2v-4h2v4z\"/>\n",
              "    </g>\n",
              "</svg>\n",
              "      </button>\n",
              "    </div>\n",
              "\n",
              "<style>\n",
              "  .colab-df-quickchart {\n",
              "    background-color: #E8F0FE;\n",
              "    border: none;\n",
              "    border-radius: 50%;\n",
              "    cursor: pointer;\n",
              "    display: none;\n",
              "    fill: #1967D2;\n",
              "    height: 32px;\n",
              "    padding: 0 0 0 0;\n",
              "    width: 32px;\n",
              "  }\n",
              "\n",
              "  .colab-df-quickchart:hover {\n",
              "    background-color: #E2EBFA;\n",
              "    box-shadow: 0px 1px 2px rgba(60, 64, 67, 0.3), 0px 1px 3px 1px rgba(60, 64, 67, 0.15);\n",
              "    fill: #174EA6;\n",
              "  }\n",
              "\n",
              "  [theme=dark] .colab-df-quickchart {\n",
              "    background-color: #3B4455;\n",
              "    fill: #D2E3FC;\n",
              "  }\n",
              "\n",
              "  [theme=dark] .colab-df-quickchart:hover {\n",
              "    background-color: #434B5C;\n",
              "    box-shadow: 0px 1px 3px 1px rgba(0, 0, 0, 0.15);\n",
              "    filter: drop-shadow(0px 1px 2px rgba(0, 0, 0, 0.3));\n",
              "    fill: #FFFFFF;\n",
              "  }\n",
              "</style>\n",
              "\n",
              "    <script>\n",
              "      async function quickchart(key) {\n",
              "        const containerElement = document.querySelector('#' + key);\n",
              "        const charts = await google.colab.kernel.invokeFunction(\n",
              "            'suggestCharts', [key], {});\n",
              "      }\n",
              "    </script>\n",
              "\n",
              "      <script>\n",
              "\n",
              "function displayQuickchartButton(domScope) {\n",
              "  let quickchartButtonEl =\n",
              "    domScope.querySelector('#df-ad4490b2-fc87-4fa3-9102-745fa480e31a button.colab-df-quickchart');\n",
              "  quickchartButtonEl.style.display =\n",
              "    google.colab.kernel.accessAllowed ? 'block' : 'none';\n",
              "}\n",
              "\n",
              "        displayQuickchartButton(document);\n",
              "      </script>\n",
              "      <style>\n",
              "    .colab-df-container {\n",
              "      display:flex;\n",
              "      flex-wrap:wrap;\n",
              "      gap: 12px;\n",
              "    }\n",
              "\n",
              "    .colab-df-convert {\n",
              "      background-color: #E8F0FE;\n",
              "      border: none;\n",
              "      border-radius: 50%;\n",
              "      cursor: pointer;\n",
              "      display: none;\n",
              "      fill: #1967D2;\n",
              "      height: 32px;\n",
              "      padding: 0 0 0 0;\n",
              "      width: 32px;\n",
              "    }\n",
              "\n",
              "    .colab-df-convert:hover {\n",
              "      background-color: #E2EBFA;\n",
              "      box-shadow: 0px 1px 2px rgba(60, 64, 67, 0.3), 0px 1px 3px 1px rgba(60, 64, 67, 0.15);\n",
              "      fill: #174EA6;\n",
              "    }\n",
              "\n",
              "    [theme=dark] .colab-df-convert {\n",
              "      background-color: #3B4455;\n",
              "      fill: #D2E3FC;\n",
              "    }\n",
              "\n",
              "    [theme=dark] .colab-df-convert:hover {\n",
              "      background-color: #434B5C;\n",
              "      box-shadow: 0px 1px 3px 1px rgba(0, 0, 0, 0.15);\n",
              "      filter: drop-shadow(0px 1px 2px rgba(0, 0, 0, 0.3));\n",
              "      fill: #FFFFFF;\n",
              "    }\n",
              "  </style>\n",
              "\n",
              "      <script>\n",
              "        const buttonEl =\n",
              "          document.querySelector('#df-2c9a39bb-af85-4434-965d-56224c3cdcf5 button.colab-df-convert');\n",
              "        buttonEl.style.display =\n",
              "          google.colab.kernel.accessAllowed ? 'block' : 'none';\n",
              "\n",
              "        async function convertToInteractive(key) {\n",
              "          const element = document.querySelector('#df-2c9a39bb-af85-4434-965d-56224c3cdcf5');\n",
              "          const dataTable =\n",
              "            await google.colab.kernel.invokeFunction('convertToInteractive',\n",
              "                                                     [key], {});\n",
              "          if (!dataTable) return;\n",
              "\n",
              "          const docLinkHtml = 'Like what you see? Visit the ' +\n",
              "            '<a target=\"_blank\" href=https://colab.research.google.com/notebooks/data_table.ipynb>data table notebook</a>'\n",
              "            + ' to learn more about interactive tables.';\n",
              "          element.innerHTML = '';\n",
              "          dataTable['output_type'] = 'display_data';\n",
              "          await google.colab.output.renderOutput(dataTable, element);\n",
              "          const docLink = document.createElement('div');\n",
              "          docLink.innerHTML = docLinkHtml;\n",
              "          element.appendChild(docLink);\n",
              "        }\n",
              "      </script>\n",
              "    </div>\n",
              "  </div>\n"
            ]
          },
          "metadata": {},
          "execution_count": 179
        }
      ]
    },
    {
      "cell_type": "code",
      "source": [
        "fig = plt.figure(figsize=(15,5))\n",
        "plt.subplot(1,2,1)\n",
        "sns.regplot(data=wd, x='Year', y='energy consumption / GDP')\n",
        "plt.title('Linear Regression plot for Year vs. Energy Intensity')\n",
        "plt.xlabel('Year')\n",
        "plt.ylabel('Energy Intensity (kWh/$)')\n",
        "\n",
        "plt.subplot(1,2,2)\n",
        "sns.regplot(data=wd, x='Year', y='Annual CO₂ emissions / energy')\n",
        "plt.title('Linear Regression plot for Year vs. Carbon Intensity')\n",
        "plt.xlabel('Year')\n",
        "plt.ylabel('Carbon Intensity (kg/kWh)')"
      ],
      "metadata": {
        "colab": {
          "base_uri": "https://localhost:8080/",
          "height": 317
        },
        "id": "i0beOg6-VxDv",
        "outputId": "3fd04e0a-6963-437b-efdb-ac6f0cfa5242"
      },
      "execution_count": null,
      "outputs": [
        {
          "output_type": "execute_result",
          "data": {
            "text/plain": [
              "Text(0, 0.5, 'Carbon Intensity (kg/kWh)')"
            ]
          },
          "metadata": {},
          "execution_count": 30
        },
        {
          "output_type": "display_data",
          "data": {
            "text/plain": [
              "<Figure size 1500x500 with 2 Axes>"
            ],
            "image/png": "[encoded data removed]"
          },
          "metadata": {}
        }
      ]
    },
    {
      "cell_type": "code",
      "source": [
        "us_rowval = np.where(us['Entity'] == 'United States')[0]\n",
        "USA = [us['Total GDP'][us_rowval[0]:us_rowval[-1]], us['CO2'][us_rowval[0]:us_rowval[-1]]]\n",
        "USAy = [us['Year'][us_rowval[0]:us_rowval[-1]], us['energy consumption / GDP'][us_rowval[0]:us_rowval[-1]]]\n",
        "USAe = [us['energy consumption / GDP'][us_rowval[0]:us_rowval[-1]], us['Annual CO₂ emissions'][us_rowval[0]:us_rowval[-1]]]\n",
        "USAc = [us['Annual CO₂ emissions / energy'][us_rowval[0]:us_rowval[-1]], us['CO2'][us_rowval[0]:us_rowval[-1]]]\n",
        "us"
      ],
      "metadata": {
        "colab": {
          "base_uri": "https://localhost:8080/",
          "height": 412
        },
        "id": "QjyC3Af9ZJqa",
        "outputId": "22cd18a2-995d-4b72-85c8-44e3225059f6"
      },
      "execution_count": null,
      "outputs": [
        {
          "output_type": "execute_result",
          "data": {
            "text/plain": [
              "  Entity  Year    Population  energy consumption / GDP  GDP per capita  \\\n",
              "0  World  1970  3.695390e+09                  2.611443        5951.549   \n",
              "1  World  1980  4.444008e+09                  2.444506        7232.973   \n",
              "2  World  1990  5.316176e+09                  2.220623        8222.479   \n",
              "3  World  2000  6.148899e+09                  1.841508        9914.567   \n",
              "4  World  2010  6.985603e+09                  1.573360       13179.495   \n",
              "5  World  2016  7.513474e+09                  1.441357       14700.372   \n",
              "6  World  2017  7.599822e+09                  1.425386       14944.094   \n",
              "7  World  2018  7.683790e+09                  1.423677       15212.415   \n",
              "\n",
              "   Annual CO₂ emissions  Annual CO₂ emissions / energy     Total GDP  \\\n",
              "0          1.489872e+10                       0.261531  2.199330e+13   \n",
              "1          1.950126e+10                       0.250230  3.214339e+13   \n",
              "2          2.275748e+10                       0.238230  4.371214e+13   \n",
              "3          2.545362e+10                       0.230883  6.096367e+13   \n",
              "4          3.336435e+10                       0.236125  9.206672e+13   \n",
              "5          3.552419e+10                       0.230051  1.104509e+14   \n",
              "6          3.609674e+10                       0.229322  1.135725e+14   \n",
              "7          3.682651e+10                       0.227644  1.168890e+14   \n",
              "\n",
              "            CO2  \n",
              "0  1.600000e+10  \n",
              "1  2.020000e+10  \n",
              "2  2.250000e+10  \n",
              "3  2.480000e+10  \n",
              "4  3.260000e+10  \n",
              "5  3.490000e+10  \n",
              "6  3.540000e+10  \n",
              "7  3.600000e+10  "
            ],
            "text/html": [
              "\n",
              "\n",
              "  <div id=\"df-38cbb08b-eca4-4dff-bb1c-563ab17bd5aa\">\n",
              "    <div class=\"colab-df-container\">\n",
              "      <div>\n",
              "<style scoped>\n",
              "    .dataframe tbody tr th:only-of-type {\n",
              "        vertical-align: middle;\n",
              "    }\n",
              "\n",
              "    .dataframe tbody tr th {\n",
              "        vertical-align: top;\n",
              "    }\n",
              "\n",
              "    .dataframe thead th {\n",
              "        text-align: right;\n",
              "    }\n",
              "</style>\n",
              "<table border=\"1\" class=\"dataframe\">\n",
              "  <thead>\n",
              "    <tr style=\"text-align: right;\">\n",
              "      <th></th>\n",
              "      <th>Entity</th>\n",
              "      <th>Year</th>\n",
              "      <th>Population</th>\n",
              "      <th>energy consumption / GDP</th>\n",
              "      <th>GDP per capita</th>\n",
              "      <th>Annual CO₂ emissions</th>\n",
              "      <th>Annual CO₂ emissions / energy</th>\n",
              "      <th>Total GDP</th>\n",
              "      <th>CO2</th>\n",
              "    </tr>\n",
              "  </thead>\n",
              "  <tbody>\n",
              "    <tr>\n",
              "      <th>0</th>\n",
              "      <td>World</td>\n",
              "      <td>1970</td>\n",
              "      <td>3.695390e+09</td>\n",
              "      <td>2.611443</td>\n",
              "      <td>5951.549</td>\n",
              "      <td>1.489872e+10</td>\n",
              "      <td>0.261531</td>\n",
              "      <td>2.199330e+13</td>\n",
              "      <td>1.600000e+10</td>\n",
              "    </tr>\n",
              "    <tr>\n",
              "      <th>1</th>\n",
              "      <td>World</td>\n",
              "      <td>1980</td>\n",
              "      <td>4.444008e+09</td>\n",
              "      <td>2.444506</td>\n",
              "      <td>7232.973</td>\n",
              "      <td>1.950126e+10</td>\n",
              "      <td>0.250230</td>\n",
              "      <td>3.214339e+13</td>\n",
              "      <td>2.020000e+10</td>\n",
              "    </tr>\n",
              "    <tr>\n",
              "      <th>2</th>\n",
              "      <td>World</td>\n",
              "      <td>1990</td>\n",
              "      <td>5.316176e+09</td>\n",
              "      <td>2.220623</td>\n",
              "      <td>8222.479</td>\n",
              "      <td>2.275748e+10</td>\n",
              "      <td>0.238230</td>\n",
              "      <td>4.371214e+13</td>\n",
              "      <td>2.250000e+10</td>\n",
              "    </tr>\n",
              "    <tr>\n",
              "      <th>3</th>\n",
              "      <td>World</td>\n",
              "      <td>2000</td>\n",
              "      <td>6.148899e+09</td>\n",
              "      <td>1.841508</td>\n",
              "      <td>9914.567</td>\n",
              "      <td>2.545362e+10</td>\n",
              "      <td>0.230883</td>\n",
              "      <td>6.096367e+13</td>\n",
              "      <td>2.480000e+10</td>\n",
              "    </tr>\n",
              "    <tr>\n",
              "      <th>4</th>\n",
              "      <td>World</td>\n",
              "      <td>2010</td>\n",
              "      <td>6.985603e+09</td>\n",
              "      <td>1.573360</td>\n",
              "      <td>13179.495</td>\n",
              "      <td>3.336435e+10</td>\n",
              "      <td>0.236125</td>\n",
              "      <td>9.206672e+13</td>\n",
              "      <td>3.260000e+10</td>\n",
              "    </tr>\n",
              "    <tr>\n",
              "      <th>5</th>\n",
              "      <td>World</td>\n",
              "      <td>2016</td>\n",
              "      <td>7.513474e+09</td>\n",
              "      <td>1.441357</td>\n",
              "      <td>14700.372</td>\n",
              "      <td>3.552419e+10</td>\n",
              "      <td>0.230051</td>\n",
              "      <td>1.104509e+14</td>\n",
              "      <td>3.490000e+10</td>\n",
              "    </tr>\n",
              "    <tr>\n",
              "      <th>6</th>\n",
              "      <td>World</td>\n",
              "      <td>2017</td>\n",
              "      <td>7.599822e+09</td>\n",
              "      <td>1.425386</td>\n",
              "      <td>14944.094</td>\n",
              "      <td>3.609674e+10</td>\n",
              "      <td>0.229322</td>\n",
              "      <td>1.135725e+14</td>\n",
              "      <td>3.540000e+10</td>\n",
              "    </tr>\n",
              "    <tr>\n",
              "      <th>7</th>\n",
              "      <td>World</td>\n",
              "      <td>2018</td>\n",
              "      <td>7.683790e+09</td>\n",
              "      <td>1.423677</td>\n",
              "      <td>15212.415</td>\n",
              "      <td>3.682651e+10</td>\n",
              "      <td>0.227644</td>\n",
              "      <td>1.168890e+14</td>\n",
              "      <td>3.600000e+10</td>\n",
              "    </tr>\n",
              "  </tbody>\n",
              "</table>\n",
              "</div>\n",
              "      <button class=\"colab-df-convert\" onclick=\"convertToInteractive('df-38cbb08b-eca4-4dff-bb1c-563ab17bd5aa')\"\n",
              "              title=\"Convert this dataframe to an interactive table.\"\n",
              "              style=\"display:none;\">\n",
              "\n",
              "  <svg xmlns=\"http://www.w3.org/2000/svg\" height=\"24px\"viewBox=\"0 0 24 24\"\n",
              "       width=\"24px\">\n",
              "    <path d=\"M0 0h24v24H0V0z\" fill=\"none\"/>\n",
              "    <path d=\"M18.56 5.44l.94 2.06.94-2.06 2.06-.94-2.06-.94-.94-2.06-.94 2.06-2.06.94zm-11 1L8.5 8.5l.94-2.06 2.06-.94-2.06-.94L8.5 2.5l-.94 2.06-2.06.94zm10 10l.94 2.06.94-2.06 2.06-.94-2.06-.94-.94-2.06-.94 2.06-2.06.94z\"/><path d=\"M17.41 7.96l-1.37-1.37c-.4-.4-.92-.59-1.43-.59-.52 0-1.04.2-1.43.59L10.3 9.45l-7.72 7.72c-.78.78-.78 2.05 0 2.83L4 21.41c.39.39.9.59 1.41.59.51 0 1.02-.2 1.41-.59l7.78-7.78 2.81-2.81c.8-.78.8-2.07 0-2.86zM5.41 20L4 18.59l7.72-7.72 1.47 1.35L5.41 20z\"/>\n",
              "  </svg>\n",
              "      </button>\n",
              "\n",
              "\n",
              "\n",
              "    <div id=\"df-3b02e786-ba85-4fb2-a4f9-5f5a7caac4f9\">\n",
              "      <button class=\"colab-df-quickchart\" onclick=\"quickchart('df-3b02e786-ba85-4fb2-a4f9-5f5a7caac4f9')\"\n",
              "              title=\"Suggest charts.\"\n",
              "              style=\"display:none;\">\n",
              "\n",
              "<svg xmlns=\"http://www.w3.org/2000/svg\" height=\"24px\"viewBox=\"0 0 24 24\"\n",
              "     width=\"24px\">\n",
              "    <g>\n",
              "        <path d=\"M19 3H5c-1.1 0-2 .9-2 2v14c0 1.1.9 2 2 2h14c1.1 0 2-.9 2-2V5c0-1.1-.9-2-2-2zM9 17H7v-7h2v7zm4 0h-2V7h2v10zm4 0h-2v-4h2v4z\"/>\n",
              "    </g>\n",
              "</svg>\n",
              "      </button>\n",
              "    </div>\n",
              "\n",
              "<style>\n",
              "  .colab-df-quickchart {\n",
              "    background-color: #E8F0FE;\n",
              "    border: none;\n",
              "    border-radius: 50%;\n",
              "    cursor: pointer;\n",
              "    display: none;\n",
              "    fill: #1967D2;\n",
              "    height: 32px;\n",
              "    padding: 0 0 0 0;\n",
              "    width: 32px;\n",
              "  }\n",
              "\n",
              "  .colab-df-quickchart:hover {\n",
              "    background-color: #E2EBFA;\n",
              "    box-shadow: 0px 1px 2px rgba(60, 64, 67, 0.3), 0px 1px 3px 1px rgba(60, 64, 67, 0.15);\n",
              "    fill: #174EA6;\n",
              "  }\n",
              "\n",
              "  [theme=dark] .colab-df-quickchart {\n",
              "    background-color: #3B4455;\n",
              "    fill: #D2E3FC;\n",
              "  }\n",
              "\n",
              "  [theme=dark] .colab-df-quickchart:hover {\n",
              "    background-color: #434B5C;\n",
              "    box-shadow: 0px 1px 3px 1px rgba(0, 0, 0, 0.15);\n",
              "    filter: drop-shadow(0px 1px 2px rgba(0, 0, 0, 0.3));\n",
              "    fill: #FFFFFF;\n",
              "  }\n",
              "</style>\n",
              "\n",
              "    <script>\n",
              "      async function quickchart(key) {\n",
              "        const containerElement = document.querySelector('#' + key);\n",
              "        const charts = await google.colab.kernel.invokeFunction(\n",
              "            'suggestCharts', [key], {});\n",
              "      }\n",
              "    </script>\n",
              "\n",
              "      <script>\n",
              "\n",
              "function displayQuickchartButton(domScope) {\n",
              "  let quickchartButtonEl =\n",
              "    domScope.querySelector('#df-3b02e786-ba85-4fb2-a4f9-5f5a7caac4f9 button.colab-df-quickchart');\n",
              "  quickchartButtonEl.style.display =\n",
              "    google.colab.kernel.accessAllowed ? 'block' : 'none';\n",
              "}\n",
              "\n",
              "        displayQuickchartButton(document);\n",
              "      </script>\n",
              "      <style>\n",
              "    .colab-df-container {\n",
              "      display:flex;\n",
              "      flex-wrap:wrap;\n",
              "      gap: 12px;\n",
              "    }\n",
              "\n",
              "    .colab-df-convert {\n",
              "      background-color: #E8F0FE;\n",
              "      border: none;\n",
              "      border-radius: 50%;\n",
              "      cursor: pointer;\n",
              "      display: none;\n",
              "      fill: #1967D2;\n",
              "      height: 32px;\n",
              "      padding: 0 0 0 0;\n",
              "      width: 32px;\n",
              "    }\n",
              "\n",
              "    .colab-df-convert:hover {\n",
              "      background-color: #E2EBFA;\n",
              "      box-shadow: 0px 1px 2px rgba(60, 64, 67, 0.3), 0px 1px 3px 1px rgba(60, 64, 67, 0.15);\n",
              "      fill: #174EA6;\n",
              "    }\n",
              "\n",
              "    [theme=dark] .colab-df-convert {\n",
              "      background-color: #3B4455;\n",
              "      fill: #D2E3FC;\n",
              "    }\n",
              "\n",
              "    [theme=dark] .colab-df-convert:hover {\n",
              "      background-color: #434B5C;\n",
              "      box-shadow: 0px 1px 3px 1px rgba(0, 0, 0, 0.15);\n",
              "      filter: drop-shadow(0px 1px 2px rgba(0, 0, 0, 0.3));\n",
              "      fill: #FFFFFF;\n",
              "    }\n",
              "  </style>\n",
              "\n",
              "      <script>\n",
              "        const buttonEl =\n",
              "          document.querySelector('#df-38cbb08b-eca4-4dff-bb1c-563ab17bd5aa button.colab-df-convert');\n",
              "        buttonEl.style.display =\n",
              "          google.colab.kernel.accessAllowed ? 'block' : 'none';\n",
              "\n",
              "        async function convertToInteractive(key) {\n",
              "          const element = document.querySelector('#df-38cbb08b-eca4-4dff-bb1c-563ab17bd5aa');\n",
              "          const dataTable =\n",
              "            await google.colab.kernel.invokeFunction('convertToInteractive',\n",
              "                                                     [key], {});\n",
              "          if (!dataTable) return;\n",
              "\n",
              "          const docLinkHtml = 'Like what you see? Visit the ' +\n",
              "            '<a target=\"_blank\" href=https://colab.research.google.com/notebooks/data_table.ipynb>data table notebook</a>'\n",
              "            + ' to learn more about interactive tables.';\n",
              "          element.innerHTML = '';\n",
              "          dataTable['output_type'] = 'display_data';\n",
              "          await google.colab.output.renderOutput(dataTable, element);\n",
              "          const docLink = document.createElement('div');\n",
              "          docLink.innerHTML = docLinkHtml;\n",
              "          element.appendChild(docLink);\n",
              "        }\n",
              "      </script>\n",
              "    </div>\n",
              "  </div>\n"
            ]
          },
          "metadata": {},
          "execution_count": 35
        }
      ]
    },
    {
      "cell_type": "code",
      "source": [
        "us['EICI'] = us['energy consumption / GDP'] * us['Annual CO₂ emissions / energy']\n",
        "us['Log'] = np.log(us['EICI'])"
      ],
      "metadata": {
        "id": "7QGlCBh9Z6zx"
      },
      "execution_count": null,
      "outputs": []
    },
    {
      "cell_type": "code",
      "source": [
        "usx1 = USA[1].to_numpy().reshape((-1, 1))\n",
        "usx2 = USAy[0].to_numpy().reshape((-1, 1))\n",
        "usy1 = USA[0].to_numpy()\n",
        "usy2 = USAe[0].to_numpy()\n",
        "usy3 = USAc[0].to_numpy()\n",
        "usy4 = USAe[0] * USAc[0]"
      ],
      "metadata": {
        "id": "we8ypHL6aI1X"
      },
      "execution_count": null,
      "outputs": []
    },
    {
      "cell_type": "code",
      "source": [
        "modelus = LinearRegression()\n",
        "modelus.fit((-1) * usx2, np.log(usy4))\n",
        "modelus.score((-1) * usx2, np.log(usy4))"
      ],
      "metadata": {
        "colab": {
          "base_uri": "https://localhost:8080/"
        },
        "id": "AXMtw5KGaYZ4",
        "outputId": "242a6d69-1634-48f3-d341-bfa6709bb085"
      },
      "execution_count": null,
      "outputs": [
        {
          "output_type": "execute_result",
          "data": {
            "text/plain": [
              "0.9773526535604875"
            ]
          },
          "metadata": {},
          "execution_count": 38
        }
      ]
    },
    {
      "cell_type": "code",
      "source": [
        "modelus.predict(np.array([[-2050]]))"
      ],
      "metadata": {
        "colab": {
          "base_uri": "https://localhost:8080/"
        },
        "id": "iEM48sSEaiYY",
        "outputId": "b024174a-8d6f-4b2e-bd9a-87298074a5d8"
      },
      "execution_count": null,
      "outputs": [
        {
          "output_type": "execute_result",
          "data": {
            "text/plain": [
              "array([-1.82907874])"
            ]
          },
          "metadata": {},
          "execution_count": 39
        }
      ]
    },
    {
      "cell_type": "code",
      "source": [
        "np.exp(-1.82907874)"
      ],
      "metadata": {
        "colab": {
          "base_uri": "https://localhost:8080/"
        },
        "id": "lGaZi299cKVy",
        "outputId": "3e2b7ef0-8e7c-4f40-aa5a-5f4da6da6c60"
      },
      "execution_count": null,
      "outputs": [
        {
          "output_type": "execute_result",
          "data": {
            "text/plain": [
              "0.1605614184726311"
            ]
          },
          "metadata": {},
          "execution_count": 40
        }
      ]
    },
    {
      "cell_type": "code",
      "source": [
        "modelus.predict(np.array([[-2100]]))"
      ],
      "metadata": {
        "colab": {
          "base_uri": "https://localhost:8080/"
        },
        "id": "okOCvjUFaiwZ",
        "outputId": "f760d535-2cff-41c4-f1d8-a59a7a0269fc"
      },
      "execution_count": null,
      "outputs": [
        {
          "output_type": "execute_result",
          "data": {
            "text/plain": [
              "array([-2.86692273])"
            ]
          },
          "metadata": {},
          "execution_count": 41
        }
      ]
    },
    {
      "cell_type": "code",
      "source": [
        "np.exp(-2.86692273)"
      ],
      "metadata": {
        "colab": {
          "base_uri": "https://localhost:8080/"
        },
        "id": "qAagWKrecNR9",
        "outputId": "9fca51d5-4be5-4255-d0a5-8de2028e776c"
      },
      "execution_count": null,
      "outputs": [
        {
          "output_type": "execute_result",
          "data": {
            "text/plain": [
              "0.05687367321904022"
            ]
          },
          "metadata": {},
          "execution_count": 42
        }
      ]
    },
    {
      "cell_type": "code",
      "source": [
        "data_s1 = pd.read_csv(raw_s1)\n",
        "prod = [i for i in range(1880, 2101)]\n",
        "usyprod = []\n",
        "for i in range(221):\n",
        "  a = (i + 1880) * (-1)\n",
        "  pp = modelus.predict(np.array([[a]]))\n",
        "  pp2 = 0.744 * 1000 / np.exp(pp)\n",
        "  usyprod.append(pp2)\n",
        "\n",
        "data_s1['y1'] = np.nan\n",
        "ind = 0\n",
        "for val in data_s1['ann']:\n",
        "  data_s1['y1'][ind] = val * usyprod[ind]\n",
        "  ind = ind + 1"
      ],
      "metadata": {
        "colab": {
          "base_uri": "https://localhost:8080/"
        },
        "id": "_VxGM8G5al-H",
        "outputId": "b98b5b5c-2087-4672-9629-8aac563dd27c"
      },
      "execution_count": null,
      "outputs": [
        {
          "output_type": "stream",
          "name": "stderr",
          "text": [
            "<ipython-input-43-083aa3a760a7>:13: SettingWithCopyWarning: \n",
            "A value is trying to be set on a copy of a slice from a DataFrame\n",
            "\n",
            "See the caveats in the documentation: https://pandas.pydata.org/pandas-docs/stable/user_guide/indexing.html#returning-a-view-versus-a-copy\n",
            "  data_s1['y1'][ind] = val * usyprod[ind]\n"
          ]
        }
      ]
    },
    {
      "cell_type": "code",
      "source": [
        "data_s1['y2'] = np.nan\n",
        "ind = 0\n",
        "for val in data_s2['ann'].dropna():\n",
        "  if ind == 171:\n",
        "    break\n",
        "  data_s1['y2'][ind] = val * usyprod[ind]\n",
        "  ind = ind + 1"
      ],
      "metadata": {
        "id": "XG5a-bx-a4XO"
      },
      "execution_count": null,
      "outputs": []
    },
    {
      "cell_type": "code",
      "source": [
        "data_s1['y3'] = np.nan\n",
        "ind = 0\n",
        "for val in data_s3['cum'].diff():\n",
        "  data_s1['y3'][ind] = val * usyprod[ind]\n",
        "  ind = ind + 1"
      ],
      "metadata": {
        "colab": {
          "base_uri": "https://localhost:8080/"
        },
        "id": "0BVBMg1la9Hq",
        "outputId": "80454be7-f2e7-4c9f-908d-32dd3327c6e3"
      },
      "execution_count": null,
      "outputs": [
        {
          "output_type": "stream",
          "name": "stderr",
          "text": [
            "<ipython-input-45-be540b55677c>:4: SettingWithCopyWarning: \n",
            "A value is trying to be set on a copy of a slice from a DataFrame\n",
            "\n",
            "See the caveats in the documentation: https://pandas.pydata.org/pandas-docs/stable/user_guide/indexing.html#returning-a-view-versus-a-copy\n",
            "  data_s1['y3'][ind] = val * usyprod[ind]\n"
          ]
        }
      ]
    },
    {
      "cell_type": "code",
      "source": [
        "dfus = data_s1.melt('year', var_name='y', value_name='val')\n",
        "dfus = dfus.drop(dfus[dfus.y == 'cum_emissions_hat1'].index)\n",
        "dfus = dfus.drop(dfus[dfus.y=='ann'].index)"
      ],
      "metadata": {
        "id": "hyXDvltxbC0v"
      },
      "execution_count": null,
      "outputs": []
    },
    {
      "cell_type": "code",
      "source": [
        "ax = sns.lineplot(data=dfus, x='year', y='val', hue='y', palette = ['red', 'blue', 'green'], alpha = 0.7)\n",
        "ax.set(xlabel = 'Years',\n",
        "       ylabel = 'GDP in (million $)',\n",
        "       title = 'Predicted GDP in each scenario with US K')\n",
        "hands, labs = ax.get_legend_handles_labels()\n",
        "plt.legend(handles = hands, labels=[\"Scenario 1\", \"Scenario 2\", \"Scenario 3\"])\n",
        "plt.show()"
      ],
      "metadata": {
        "colab": {
          "base_uri": "https://localhost:8080/",
          "height": 472
        },
        "id": "0GAB5Xi7bLeC",
        "outputId": "d84f3277-b383-4fa8-e585-5c437e04d2a8"
      },
      "execution_count": null,
      "outputs": [
        {
          "output_type": "display_data",
          "data": {
            "text/plain": [
              "<Figure size 640x480 with 1 Axes>"
            ],
            "image/png": "[encoded data removed]"
          },
          "metadata": {}
        }
      ]
    },
    {
      "cell_type": "code",
      "source": [
        "dat.head(70)"
      ],
      "metadata": {
        "colab": {
          "base_uri": "https://localhost:8080/",
          "height": 483
        },
        "id": "gAeiAEnQchgO",
        "outputId": "1bdd5aa7-489d-46da-ba4c-c3c1e373d835"
      },
      "execution_count": null,
      "outputs": [
        {
          "output_type": "execute_result",
          "data": {
            "text/plain": [
              "    cum_emissions_hat1            ann  year            y1            y2  \\\n",
              "0         7.911110e+05     262.892524  1960           NaN           NaN   \n",
              "1         7.916399e+05     528.941376  1961           NaN           NaN   \n",
              "2         7.925338e+05     893.862028  1962           NaN           NaN   \n",
              "3         7.938940e+05    1360.198683  1963           NaN           NaN   \n",
              "4         7.958240e+05    1929.993563  1964           NaN           NaN   \n",
              "..                 ...            ...   ...           ...           ...   \n",
              "65        4.194521e+06  112263.249600  2025  2.890131e+11  6.629039e+10   \n",
              "66        4.306143e+06  111621.731300  2026  2.920577e+11  6.040172e+10   \n",
              "67        4.416922e+06  110779.029600  2027  2.945896e+11  5.492032e+10   \n",
              "68        4.526667e+06  109745.039600  2028  2.966092e+11  4.984230e+10   \n",
              "69        4.635198e+06  108530.376900  2029  2.981199e+11  4.515772e+10   \n",
              "\n",
              "              y3            y4  \n",
              "0            NaN  1.392277e+12  \n",
              "1            NaN  1.448625e+12  \n",
              "2            NaN  1.550548e+12  \n",
              "3            NaN  1.671614e+12  \n",
              "4            NaN  1.830292e+12  \n",
              "..           ...           ...  \n",
              "65  6.375225e+10           NaN  \n",
              "66  3.918127e+10           NaN  \n",
              "67  1.332580e+10           NaN  \n",
              "68 -1.354357e+10           NaN  \n",
              "69 -4.113375e+10           NaN  \n",
              "\n",
              "[70 rows x 7 columns]"
            ],
            "text/html": [
              "\n",
              "\n",
              "  <div id=\"df-e879baa5-0489-40c3-be21-f04a0ee856ab\">\n",
              "    <div class=\"colab-df-container\">\n",
              "      <div>\n",
              "<style scoped>\n",
              "    .dataframe tbody tr th:only-of-type {\n",
              "        vertical-align: middle;\n",
              "    }\n",
              "\n",
              "    .dataframe tbody tr th {\n",
              "        vertical-align: top;\n",
              "    }\n",
              "\n",
              "    .dataframe thead th {\n",
              "        text-align: right;\n",
              "    }\n",
              "</style>\n",
              "<table border=\"1\" class=\"dataframe\">\n",
              "  <thead>\n",
              "    <tr style=\"text-align: right;\">\n",
              "      <th></th>\n",
              "      <th>cum_emissions_hat1</th>\n",
              "      <th>ann</th>\n",
              "      <th>year</th>\n",
              "      <th>y1</th>\n",
              "      <th>y2</th>\n",
              "      <th>y3</th>\n",
              "      <th>y4</th>\n",
              "    </tr>\n",
              "  </thead>\n",
              "  <tbody>\n",
              "    <tr>\n",
              "      <th>0</th>\n",
              "      <td>7.911110e+05</td>\n",
              "      <td>262.892524</td>\n",
              "      <td>1960</td>\n",
              "      <td>NaN</td>\n",
              "      <td>NaN</td>\n",
              "      <td>NaN</td>\n",
              "      <td>1.392277e+12</td>\n",
              "    </tr>\n",
              "    <tr>\n",
              "      <th>1</th>\n",
              "      <td>7.916399e+05</td>\n",
              "      <td>528.941376</td>\n",
              "      <td>1961</td>\n",
              "      <td>NaN</td>\n",
              "      <td>NaN</td>\n",
              "      <td>NaN</td>\n",
              "      <td>1.448625e+12</td>\n",
              "    </tr>\n",
              "    <tr>\n",
              "      <th>2</th>\n",
              "      <td>7.925338e+05</td>\n",
              "      <td>893.862028</td>\n",
              "      <td>1962</td>\n",
              "      <td>NaN</td>\n",
              "      <td>NaN</td>\n",
              "      <td>NaN</td>\n",
              "      <td>1.550548e+12</td>\n",
              "    </tr>\n",
              "    <tr>\n",
              "      <th>3</th>\n",
              "      <td>7.938940e+05</td>\n",
              "      <td>1360.198683</td>\n",
              "      <td>1963</td>\n",
              "      <td>NaN</td>\n",
              "      <td>NaN</td>\n",
              "      <td>NaN</td>\n",
              "      <td>1.671614e+12</td>\n",
              "    </tr>\n",
              "    <tr>\n",
              "      <th>4</th>\n",
              "      <td>7.958240e+05</td>\n",
              "      <td>1929.993563</td>\n",
              "      <td>1964</td>\n",
              "      <td>NaN</td>\n",
              "      <td>NaN</td>\n",
              "      <td>NaN</td>\n",
              "      <td>1.830292e+12</td>\n",
              "    </tr>\n",
              "    <tr>\n",
              "      <th>...</th>\n",
              "      <td>...</td>\n",
              "      <td>...</td>\n",
              "      <td>...</td>\n",
              "      <td>...</td>\n",
              "      <td>...</td>\n",
              "      <td>...</td>\n",
              "      <td>...</td>\n",
              "    </tr>\n",
              "    <tr>\n",
              "      <th>65</th>\n",
              "      <td>4.194521e+06</td>\n",
              "      <td>112263.249600</td>\n",
              "      <td>2025</td>\n",
              "      <td>2.890131e+11</td>\n",
              "      <td>6.629039e+10</td>\n",
              "      <td>6.375225e+10</td>\n",
              "      <td>NaN</td>\n",
              "    </tr>\n",
              "    <tr>\n",
              "      <th>66</th>\n",
              "      <td>4.306143e+06</td>\n",
              "      <td>111621.731300</td>\n",
              "      <td>2026</td>\n",
              "      <td>2.920577e+11</td>\n",
              "      <td>6.040172e+10</td>\n",
              "      <td>3.918127e+10</td>\n",
              "      <td>NaN</td>\n",
              "    </tr>\n",
              "    <tr>\n",
              "      <th>67</th>\n",
              "      <td>4.416922e+06</td>\n",
              "      <td>110779.029600</td>\n",
              "      <td>2027</td>\n",
              "      <td>2.945896e+11</td>\n",
              "      <td>5.492032e+10</td>\n",
              "      <td>1.332580e+10</td>\n",
              "      <td>NaN</td>\n",
              "    </tr>\n",
              "    <tr>\n",
              "      <th>68</th>\n",
              "      <td>4.526667e+06</td>\n",
              "      <td>109745.039600</td>\n",
              "      <td>2028</td>\n",
              "      <td>2.966092e+11</td>\n",
              "      <td>4.984230e+10</td>\n",
              "      <td>-1.354357e+10</td>\n",
              "      <td>NaN</td>\n",
              "    </tr>\n",
              "    <tr>\n",
              "      <th>69</th>\n",
              "      <td>4.635198e+06</td>\n",
              "      <td>108530.376900</td>\n",
              "      <td>2029</td>\n",
              "      <td>2.981199e+11</td>\n",
              "      <td>4.515772e+10</td>\n",
              "      <td>-4.113375e+10</td>\n",
              "      <td>NaN</td>\n",
              "    </tr>\n",
              "  </tbody>\n",
              "</table>\n",
              "<p>70 rows × 7 columns</p>\n",
              "</div>\n",
              "      <button class=\"colab-df-convert\" onclick=\"convertToInteractive('df-e879baa5-0489-40c3-be21-f04a0ee856ab')\"\n",
              "              title=\"Convert this dataframe to an interactive table.\"\n",
              "              style=\"display:none;\">\n",
              "\n",
              "  <svg xmlns=\"http://www.w3.org/2000/svg\" height=\"24px\"viewBox=\"0 0 24 24\"\n",
              "       width=\"24px\">\n",
              "    <path d=\"M0 0h24v24H0V0z\" fill=\"none\"/>\n",
              "    <path d=\"M18.56 5.44l.94 2.06.94-2.06 2.06-.94-2.06-.94-.94-2.06-.94 2.06-2.06.94zm-11 1L8.5 8.5l.94-2.06 2.06-.94-2.06-.94L8.5 2.5l-.94 2.06-2.06.94zm10 10l.94 2.06.94-2.06 2.06-.94-2.06-.94-.94-2.06-.94 2.06-2.06.94z\"/><path d=\"M17.41 7.96l-1.37-1.37c-.4-.4-.92-.59-1.43-.59-.52 0-1.04.2-1.43.59L10.3 9.45l-7.72 7.72c-.78.78-.78 2.05 0 2.83L4 21.41c.39.39.9.59 1.41.59.51 0 1.02-.2 1.41-.59l7.78-7.78 2.81-2.81c.8-.78.8-2.07 0-2.86zM5.41 20L4 18.59l7.72-7.72 1.47 1.35L5.41 20z\"/>\n",
              "  </svg>\n",
              "      </button>\n",
              "\n",
              "\n",
              "\n",
              "    <div id=\"df-8473e955-19e4-4b4a-a081-7beb66abe584\">\n",
              "      <button class=\"colab-df-quickchart\" onclick=\"quickchart('df-8473e955-19e4-4b4a-a081-7beb66abe584')\"\n",
              "              title=\"Suggest charts.\"\n",
              "              style=\"display:none;\">\n",
              "\n",
              "<svg xmlns=\"http://www.w3.org/2000/svg\" height=\"24px\"viewBox=\"0 0 24 24\"\n",
              "     width=\"24px\">\n",
              "    <g>\n",
              "        <path d=\"M19 3H5c-1.1 0-2 .9-2 2v14c0 1.1.9 2 2 2h14c1.1 0 2-.9 2-2V5c0-1.1-.9-2-2-2zM9 17H7v-7h2v7zm4 0h-2V7h2v10zm4 0h-2v-4h2v4z\"/>\n",
              "    </g>\n",
              "</svg>\n",
              "      </button>\n",
              "    </div>\n",
              "\n",
              "<style>\n",
              "  .colab-df-quickchart {\n",
              "    background-color: #E8F0FE;\n",
              "    border: none;\n",
              "    border-radius: 50%;\n",
              "    cursor: pointer;\n",
              "    display: none;\n",
              "    fill: #1967D2;\n",
              "    height: 32px;\n",
              "    padding: 0 0 0 0;\n",
              "    width: 32px;\n",
              "  }\n",
              "\n",
              "  .colab-df-quickchart:hover {\n",
              "    background-color: #E2EBFA;\n",
              "    box-shadow: 0px 1px 2px rgba(60, 64, 67, 0.3), 0px 1px 3px 1px rgba(60, 64, 67, 0.15);\n",
              "    fill: #174EA6;\n",
              "  }\n",
              "\n",
              "  [theme=dark] .colab-df-quickchart {\n",
              "    background-color: #3B4455;\n",
              "    fill: #D2E3FC;\n",
              "  }\n",
              "\n",
              "  [theme=dark] .colab-df-quickchart:hover {\n",
              "    background-color: #434B5C;\n",
              "    box-shadow: 0px 1px 3px 1px rgba(0, 0, 0, 0.15);\n",
              "    filter: drop-shadow(0px 1px 2px rgba(0, 0, 0, 0.3));\n",
              "    fill: #FFFFFF;\n",
              "  }\n",
              "</style>\n",
              "\n",
              "    <script>\n",
              "      async function quickchart(key) {\n",
              "        const containerElement = document.querySelector('#' + key);\n",
              "        const charts = await google.colab.kernel.invokeFunction(\n",
              "            'suggestCharts', [key], {});\n",
              "      }\n",
              "    </script>\n",
              "\n",
              "      <script>\n",
              "\n",
              "function displayQuickchartButton(domScope) {\n",
              "  let quickchartButtonEl =\n",
              "    domScope.querySelector('#df-8473e955-19e4-4b4a-a081-7beb66abe584 button.colab-df-quickchart');\n",
              "  quickchartButtonEl.style.display =\n",
              "    google.colab.kernel.accessAllowed ? 'block' : 'none';\n",
              "}\n",
              "\n",
              "        displayQuickchartButton(document);\n",
              "      </script>\n",
              "      <style>\n",
              "    .colab-df-container {\n",
              "      display:flex;\n",
              "      flex-wrap:wrap;\n",
              "      gap: 12px;\n",
              "    }\n",
              "\n",
              "    .colab-df-convert {\n",
              "      background-color: #E8F0FE;\n",
              "      border: none;\n",
              "      border-radius: 50%;\n",
              "      cursor: pointer;\n",
              "      display: none;\n",
              "      fill: #1967D2;\n",
              "      height: 32px;\n",
              "      padding: 0 0 0 0;\n",
              "      width: 32px;\n",
              "    }\n",
              "\n",
              "    .colab-df-convert:hover {\n",
              "      background-color: #E2EBFA;\n",
              "      box-shadow: 0px 1px 2px rgba(60, 64, 67, 0.3), 0px 1px 3px 1px rgba(60, 64, 67, 0.15);\n",
              "      fill: #174EA6;\n",
              "    }\n",
              "\n",
              "    [theme=dark] .colab-df-convert {\n",
              "      background-color: #3B4455;\n",
              "      fill: #D2E3FC;\n",
              "    }\n",
              "\n",
              "    [theme=dark] .colab-df-convert:hover {\n",
              "      background-color: #434B5C;\n",
              "      box-shadow: 0px 1px 3px 1px rgba(0, 0, 0, 0.15);\n",
              "      filter: drop-shadow(0px 1px 2px rgba(0, 0, 0, 0.3));\n",
              "      fill: #FFFFFF;\n",
              "    }\n",
              "  </style>\n",
              "\n",
              "      <script>\n",
              "        const buttonEl =\n",
              "          document.querySelector('#df-e879baa5-0489-40c3-be21-f04a0ee856ab button.colab-df-convert');\n",
              "        buttonEl.style.display =\n",
              "          google.colab.kernel.accessAllowed ? 'block' : 'none';\n",
              "\n",
              "        async function convertToInteractive(key) {\n",
              "          const element = document.querySelector('#df-e879baa5-0489-40c3-be21-f04a0ee856ab');\n",
              "          const dataTable =\n",
              "            await google.colab.kernel.invokeFunction('convertToInteractive',\n",
              "                                                     [key], {});\n",
              "          if (!dataTable) return;\n",
              "\n",
              "          const docLinkHtml = 'Like what you see? Visit the ' +\n",
              "            '<a target=\"_blank\" href=https://colab.research.google.com/notebooks/data_table.ipynb>data table notebook</a>'\n",
              "            + ' to learn more about interactive tables.';\n",
              "          element.innerHTML = '';\n",
              "          dataTable['output_type'] = 'display_data';\n",
              "          await google.colab.output.renderOutput(dataTable, element);\n",
              "          const docLink = document.createElement('div');\n",
              "          docLink.innerHTML = docLinkHtml;\n",
              "          element.appendChild(docLink);\n",
              "        }\n",
              "      </script>\n",
              "    </div>\n",
              "  </div>\n"
            ]
          },
          "metadata": {},
          "execution_count": 149
        }
      ]
    },
    {
      "cell_type": "code",
      "source": [
        "dfusa = dfus[dfus['year'] > 2020]"
      ],
      "metadata": {
        "id": "Ofm_Ex2WbROr"
      },
      "execution_count": null,
      "outputs": []
    },
    {
      "cell_type": "code",
      "source": [
        "ax = sns.lineplot(data=dfusa, x='year', y='val', hue='y', palette = ['red', 'blue', 'green'], alpha = 0.7)\n",
        "ax.set(xlabel = 'Years',\n",
        "       ylabel = 'GDP in (million $)',\n",
        "       title = 'Predicted GDP in each scenario with US K')\n",
        "hands, labs = ax.get_legend_handles_labels()\n",
        "plt.legend(handles = hands, labels=[\"Scenario 1\", \"Scenario 2\", \"Scenario 3\"])\n",
        "plt.show()"
      ],
      "metadata": {
        "colab": {
          "base_uri": "https://localhost:8080/",
          "height": 472
        },
        "id": "VEDbJCeXbaQI",
        "outputId": "446febab-9cb5-44a5-ccdf-19467a6bd41b"
      },
      "execution_count": null,
      "outputs": [
        {
          "output_type": "display_data",
          "data": {
            "text/plain": [
              "<Figure size 640x480 with 1 Axes>"
            ],
            "image/png": "[encoded data removed]"
          },
          "metadata": {}
        }
      ]
    },
    {
      "cell_type": "code",
      "source": [
        "\"\"\"\n",
        "ei = []\n",
        "ci = []\n",
        "result = []\n",
        "for i in range(221):\n",
        "  a = i + 1880\n",
        "  ei1 = model2.predict(np.array([[a]]))\n",
        "  ei2 = str(ei1).lstrip('[').rstrip(']')\n",
        "  ei.append(float(ei2))\n",
        "  ci1 = model3.predict(np.array([[a]]))\n",
        "  ci2 = str(ci1).lstrip('[').rstrip(']')\n",
        "  ci.append(float(ci2))\n",
        "  res = 0.744 / float(ei2) / float(ci2)\n",
        "  result.append(res)\n",
        "\"\"\""
      ],
      "metadata": {
        "id": "VLdvLoT7ms2k"
      },
      "execution_count": null,
      "outputs": []
    },
    {
      "cell_type": "code",
      "source": [
        "#print(ei[170], ci[170])"
      ],
      "metadata": {
        "id": "CHXtAIAfAIbI"
      },
      "execution_count": null,
      "outputs": []
    },
    {
      "cell_type": "code",
      "source": [
        "#print(ei[220], ci[220])"
      ],
      "metadata": {
        "id": "lrzgRMf3ALO8"
      },
      "execution_count": null,
      "outputs": []
    },
    {
      "cell_type": "code",
      "source": [
        "#len(result)"
      ],
      "metadata": {
        "id": "lSJkLDtpws7Z"
      },
      "execution_count": null,
      "outputs": []
    },
    {
      "cell_type": "code",
      "source": [
        "\"\"\"\n",
        "data_s1['y1'] = np.nan\n",
        "ind = 0\n",
        "for val in data_s1['ann']:\n",
        "  data_s1['y1'][ind] = val * result[ind]\n",
        "  ind = ind + 1\n",
        "\"\"\""
      ],
      "metadata": {
        "id": "VXU8NG8cvdWZ"
      },
      "execution_count": null,
      "outputs": []
    },
    {
      "cell_type": "code",
      "source": [
        "\"\"\"\n",
        "data_s1['y2'] = np.nan\n",
        "ind = 0\n",
        "for val in data_s2['ann'].dropna():\n",
        "  if ind == 171:\n",
        "    break\n",
        "  data_s1['y2'][ind] = val * result[ind]\n",
        "  ind = ind + 1\n",
        "\"\"\""
      ],
      "metadata": {
        "id": "-5Q0IOqfx8_O"
      },
      "execution_count": null,
      "outputs": []
    },
    {
      "cell_type": "code",
      "source": [
        "\"\"\"\n",
        "data_s1['y3'] = np.nan\n",
        "ind = 0\n",
        "for val in data_s3['cum'].diff():\n",
        "  data_s1['y3'][ind] = val * result[ind]\n",
        "  ind = ind + 1\n",
        "\"\"\""
      ],
      "metadata": {
        "id": "OuB01hozyLpL"
      },
      "execution_count": null,
      "outputs": []
    },
    {
      "cell_type": "code",
      "source": [
        "\"\"\"\n",
        "df = data_s1.melt('year', var_name='y', value_name='val')\n",
        "df = df.drop(df[df.y == 'cum_emissions_hat1'].index)\n",
        "df = df.drop(df[df.y=='ann'].index)\n",
        "\"\"\""
      ],
      "metadata": {
        "id": "QxInKejttnCe"
      },
      "execution_count": null,
      "outputs": []
    },
    {
      "cell_type": "code",
      "source": [
        "\n",
        "\"\"\"ax = sns.lineplot(data=df, x='year', y='val', hue='y', palette = ['red', 'blue', 'green'], alpha = 0.7)\n",
        "ax.set(xlabel = 'Years',\n",
        "       ylabel = 'GDP in (billion $)',\n",
        "       title = 'Predicted GDP in each scenario')\n",
        "hands, labs = ax.get_legend_handles_labels()\n",
        "plt.legend(handles = hands, labels=[\"Scenario 1\", \"Scenario 2\", \"Scenario 3\"])\n",
        "plt.show()\n",
        "\"\"\""
      ],
      "metadata": {
        "id": "R6RWjRehrMWS"
      },
      "execution_count": null,
      "outputs": []
    },
    {
      "cell_type": "code",
      "source": [
        "#data_s1['year'][190]"
      ],
      "metadata": {
        "id": "CKhAEum8zsIp"
      },
      "execution_count": null,
      "outputs": []
    },
    {
      "cell_type": "code",
      "source": [
        "data_s1.iloc[170]"
      ],
      "metadata": {
        "id": "47Uinmwu9hci"
      },
      "execution_count": null,
      "outputs": []
    },
    {
      "cell_type": "code",
      "source": [
        "\"\"\"\n",
        "year0 = np.array([[1900]])\n",
        "year1 = np.array([[2100]])\n",
        "year2 = np.array([[2050]])\n",
        "year3 = np.array([[2023]])\n",
        "\"\"\""
      ],
      "metadata": {
        "id": "8A12aUUPhxZz"
      },
      "execution_count": null,
      "outputs": []
    },
    {
      "cell_type": "code",
      "source": [
        "\"\"\"\n",
        "ei2023 = model2.predict(np.array([[2023]]))\n",
        "ci2023 = model3.predict(year3)\n",
        "print(ei2023, ci2023)\n",
        "\"\"\""
      ],
      "metadata": {
        "id": "_HsRZSpnkYN7"
      },
      "execution_count": null,
      "outputs": []
    },
    {
      "cell_type": "code",
      "source": [
        "\"\"\"\n",
        "ei1900 = model2.predict(year0)\n",
        "ci1900 = model3.predict(year0)\n",
        "print(ei1900, ci1900)\n",
        "\"\"\""
      ],
      "metadata": {
        "id": "RiwLXIvVjQ3O"
      },
      "execution_count": null,
      "outputs": []
    },
    {
      "cell_type": "code",
      "source": [
        "\"\"\"\n",
        "ei2100 = model2.predict(year1)\n",
        "ci2100 = model3.predict(year1)\n",
        "print(ei2100, ci2100)\n",
        "\"\"\""
      ],
      "metadata": {
        "id": "EJ-Bx3LChlAo"
      },
      "execution_count": null,
      "outputs": []
    },
    {
      "cell_type": "code",
      "source": [
        "\"\"\"\n",
        "ei2050 = model2.predict(year2)\n",
        "ci2050 = model3.predict(year2)\n",
        "print(ei2050, ci2050)\n",
        "\"\"\""
      ],
      "metadata": {
        "id": "9fb_mRBwiazh"
      },
      "execution_count": null,
      "outputs": []
    },
    {
      "cell_type": "code",
      "source": [
        "#model1 = LinearRegression()\n",
        "#model1.fit(x1, y1)"
      ],
      "metadata": {
        "id": "qhMv24JQxxYY"
      },
      "execution_count": null,
      "outputs": []
    },
    {
      "cell_type": "code",
      "source": [
        "#model1.score(x1, y1)"
      ],
      "metadata": {
        "id": "qG2AClHmx60n"
      },
      "execution_count": null,
      "outputs": []
    },
    {
      "cell_type": "code",
      "source": [
        "\"\"\"\n",
        "model_e = LinearRegression()\n",
        "model_e.fit(x1, y2)\n",
        "model_e.score(x1, y2)\n",
        "\"\"\""
      ],
      "metadata": {
        "id": "Qb5or1qTesKi"
      },
      "execution_count": null,
      "outputs": []
    },
    {
      "cell_type": "code",
      "source": [
        "\"\"\"\n",
        "model_c = LinearRegression()\n",
        "model_c.fit(x1, y3)\n",
        "model_c.score(x1, y3)\n",
        "\"\"\""
      ],
      "metadata": {
        "id": "iKEagIAre_CV"
      },
      "execution_count": null,
      "outputs": []
    },
    {
      "cell_type": "code",
      "source": [
        "#scen1 = np.array([[6.81e+8]])"
      ],
      "metadata": {
        "id": "29myKU9QVzwg"
      },
      "execution_count": null,
      "outputs": []
    },
    {
      "cell_type": "code",
      "source": [
        "#EI = model_e.predict(scen1)\n",
        "#print(scen1, EI)"
      ],
      "metadata": {
        "id": "Gdb7RBYJe0iy"
      },
      "execution_count": null,
      "outputs": []
    },
    {
      "cell_type": "code",
      "source": [
        "#CI = model_c.predict(scen1)\n",
        "#print(scen1, CI)"
      ],
      "metadata": {
        "id": "gkG73-g6fEyA"
      },
      "execution_count": null,
      "outputs": []
    },
    {
      "cell_type": "code",
      "source": [
        "#scen2 = np.array([[1.358e+9]])"
      ],
      "metadata": {
        "id": "57I7GmdD-gKy"
      },
      "execution_count": null,
      "outputs": []
    },
    {
      "cell_type": "code",
      "source": [
        "#EI = model_e.predict(scen2)\n",
        "#print(scen2, EI)"
      ],
      "metadata": {
        "id": "-AoOVQm9_REc"
      },
      "execution_count": null,
      "outputs": []
    },
    {
      "cell_type": "code",
      "source": [
        "#CI = model_c.predict(scen2)\n",
        "#print(scen2, CI)"
      ],
      "metadata": {
        "id": "iaU0K8YY_cKo"
      },
      "execution_count": null,
      "outputs": []
    },
    {
      "cell_type": "code",
      "source": [
        "\"\"\"\n",
        "ax = plt.axes()\n",
        "ax.scatter(x1, y1, c='gray', marker='o', edgecolors='k', s=18)\n",
        "plt.show()\n",
        "\"\"\""
      ],
      "metadata": {
        "id": "xrxrwZAzQUsD"
      },
      "execution_count": null,
      "outputs": []
    },
    {
      "cell_type": "code",
      "source": [
        "\"\"\"\n",
        "xval = np.linspace(1965, 2020, 55)\n",
        "a, b = linear_fit(World[0], np.log(World[1]))\n",
        "yval = a * xval + b\n",
        "\n",
        "plt.scatter(World[0], np.log(World[1]), color='r')\n",
        "plt.plot(xval, yval)\n",
        "plt.title('World Carbon emission')\n",
        "plt.xlabel('log carbon emission Total GDP')\n",
        "plt.ylabel('log carbon emissions')\n",
        "plt.legend(['Actual', 'Predicted'])\n",
        "\"\"\""
      ],
      "metadata": {
        "id": "E0JaaeVLZNnC"
      },
      "execution_count": null,
      "outputs": []
    },
    {
      "cell_type": "code",
      "source": [
        "#wd['Annual CO₂ emissions']"
      ],
      "metadata": {
        "id": "YqXuocXfyI8G"
      },
      "execution_count": null,
      "outputs": []
    },
    {
      "cell_type": "code",
      "source": [
        "#r2_score(wd['Annual CO₂ emissions'], wd_gdp)"
      ],
      "metadata": {
        "id": "RnypbunjxmLu"
      },
      "execution_count": null,
      "outputs": []
    },
    {
      "cell_type": "code",
      "source": [
        "#r2_score(World[0], World[1])"
      ],
      "metadata": {
        "id": "3-v-5ceopr5B"
      },
      "execution_count": null,
      "outputs": []
    },
    {
      "cell_type": "code",
      "source": [
        "# Calculating R2 coefficient\n",
        "def r_squared(xx,yy,m,c):\n",
        "\n",
        "  X = xx.values\n",
        "  Y = yy.values\n",
        "  # Mean X and Y\n",
        "  mean_x = np.mean(X)\n",
        "  mean_y = np.mean(Y)\n",
        "  # Total number of values\n",
        "  n = len(X)\n",
        "\n",
        "  ss_tot=0\n",
        "  ss_res=0\n",
        "\n",
        "  for i in range(n):\n",
        "      y_pred = c + m * X[i]\n",
        "      ss_tot += (Y[i] - mean_y) ** 2\n",
        "      ss_res += (Y[i] - y_pred) ** 2\n",
        "  r2 = 1 - (ss_res/ss_tot)\n",
        "  return(r2)"
      ],
      "metadata": {
        "id": "2sXAWz2UxUiL"
      },
      "execution_count": null,
      "outputs": []
    },
    {
      "cell_type": "code",
      "source": [
        "#r_squared(World[0], np.log(World[1]), a, b)"
      ],
      "metadata": {
        "id": "r5QUagF6yrLj"
      },
      "execution_count": null,
      "outputs": []
    }
  ]
}